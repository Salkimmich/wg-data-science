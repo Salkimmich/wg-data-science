{
 "cells": [
  {
   "cell_type": "markdown",
   "id": "40956700",
   "metadata": {},
   "source": [
    "## Summary\n",
    "\n",
    "### tl;dr\n",
    "\n",
    "Notes:\n",
    "* The Redis project is owned by a company (Redis) and was relicensed on 2024-03-20\n",
    "* Caveat: This is purely a summary of the data that has not been validated from anyone within the community\n",
    "* Analysis of contributions to one repo: https://github.com/redis/redis\n",
    "\n",
    "The majority of contributions to Redis have always come from Redis employees; however, this has become even more pronounced after Redis relicensed in May 2024. Before the relicense, there were significant contributions from employees of other companies. Here are a few notable examples of contributions in the year leading up to the relicense from employees of Amazon, Alibaba, Huawei, Tencent, and Ericsson. All of these people have transitioned from Redis to the Valkey fork with madolson, enjoy-binbin, and zuiderkwast as top contributors to Valkey.\n",
    "\n",
    "|People|Company|Commits|Additions|Deletions|\n",
    "|:---|:---|:---|:---|:---|\n",
    "| lyq2333 | Alibaba | 10 | 349 | 190 |\n",
    "| soloestoy | Alibaba | 31 | 828 | 364 |\n",
    "| hwware | Huawei Technologies | 25 | 763 | 224 |\n",
    "| roshkhatri | Amazon | 10 | 1917 | 732 |\n",
    "| hpatro | Amazon | 14 | 1437 | 632 |\n",
    "| madolson | Amazon | 24 | 3310 | 1636 |\n",
    "| enjoy-binbin | Tencent Cloud | 146 | 3502 | 1115 |\n",
    "| zuiderkwast | Ericsson Software Technology | 16 | 13057 | 10622 |\n",
    "\n",
    "### After relicense (2024-03-20 - 2024-08-21)\n",
    "\n",
    "All of the external contributors from Amazon, Alibaba, Tencent, Huawei, and Ericsson who contributed over 10 commits in the year leading up to the relicense mostly stopped contributing (some made 1-3 commits shortly after the relicense, which likely indicated work already in progress). \n",
    "\n",
    "Redis - people with >= 5 commits: \n",
    "* People: 5 0.1388888888888889 % of people\n",
    "* Commits: 112\n",
    "* Additions: 31664 0.7905327807459929 % of total additions\n",
    "* Deletions: 9822 0.6975852272727273 % of total deletions\n",
    "\n",
    "Other - people with >= 5 commits: \n",
    "* People: 0 0.0 % of people\n",
    "* Commits: 0\n",
    "* Additions: 0 0.0 % of total additions\n",
    "* Deletions: 0 0.0 % of total deletions\n",
    "\n",
    "Totals in dataset of people with >=5 commits:\n",
    "* 0.7905327807459929 % of total additions\n",
    "* 0.6975852272727273 % of total deletions\n",
    "\n",
    "### 1 year before relicense (2023-03-20 - 2024-03-20)\n",
    "\n",
    "Redis - people with >= 5 commits: \n",
    "* People: 6 0.06451612903225806 % of people\n",
    "* Commits: 164\n",
    "* Additions: 189656 0.8011489882989059 % of total additions\n",
    "* Deletions: 83122 0.7389279047026402 % of total deletions\n",
    "\n",
    "Other - people with >= 5 commits: \n",
    "* People: 12 0.12903225806451613 % of people\n",
    "* Commits: 319\n",
    "* Additions: 28334 0.11968909728382546 % of total additions\n",
    "* Deletions: 16684 0.1483154058138501 % of total deletions\n",
    "\n",
    "Totals in dataset of people with >=5 commits:\n",
    "* 0.9208380855827314 % of total additions\n",
    "* 0.8872433105164903 % of total deletions\n",
    "\n",
    "External Contributors with 5+ commits:\n",
    "|People|Company|Commits|Additions|Deletions|\n",
    "|:---|:---|:---|:---|:---|\n",
    "| CharlesChen888 | Looking for a job | 21 | 1362 | 529 |\n",
    "| lyq2333 | Alibaba | 10 | 349 | 190 |\n",
    "| meiravgri | None | 5 | 1272 | 361 |\n",
    "| soloestoy | Alibaba | 31 | 828 | 364 |\n",
    "| judeng | None | 10 | 489 | 275 |\n",
    "| hwware | Huawei Technologies | 25 | 763 | 224 |\n",
    "| moshekaplan | None | 7 | 48 | 4 |\n",
    "| roshkhatri | Amazon | 10 | 1917 | 732 |\n",
    "| hpatro | Amazon | 14 | 1437 | 632 |\n",
    "| madolson | Amazon | 24 | 3310 | 1636 |\n",
    "| enjoy-binbin | Tencent Cloud | 146 | 3502 | 1115 |\n",
    "| zuiderkwast | Ericsson Software Technology | 16 | 13057 | 10622 |\n",
    "\n",
    "### 2 years before relicense (2022-03-20 - 2024-03-20)\n",
    "\n",
    "Redis - people with >= 5 commits: \n",
    "* People: 12 0.06521739130434782 % of people\n",
    "* Commits: 458\n",
    "* Additions: 244746 0.7560399232672579 % of total additions\n",
    "* Deletions: 94566 0.7139104044933642 % of total deletions\n",
    "\n",
    "Other - people with >= 5 commits: \n",
    "* People: 21 0.11413043478260869 % of people\n",
    "* Commits: 649\n",
    "* Additions: 49395 0.15258509642562576 % of total additions\n",
    "* Deletions: 24089 0.1818559284926998 % of total deletions\n",
    "\n",
    "Totals in dataset of people with >=5 commits:\n",
    "* 0.9086250196928837 % of total additions\n",
    "* 0.8957663329860639 % of total deletions"
   ]
  },
  {
   "cell_type": "markdown",
   "id": "d21a925c",
   "metadata": {},
   "source": [
    "# After relicense (2024-03-20 - 2024-08-21)"
   ]
  },
  {
   "cell_type": "code",
   "execution_count": 7,
   "id": "5b2db56c",
   "metadata": {},
   "outputs": [],
   "source": [
    "from pprint import pprint\n",
    "import collections\n",
    "import pandas as pd\n",
    "import pickle\n",
    "\n",
    "# Pickle files generated by this script:\n",
    "# https://github.com/geekygirldawn/project-api-metrics/blob/main/scripts/commits_people.py\n",
    "\n",
    "people_pickle_a = '../data-files/redis_people_2024-03-20T00:00:00.000+00:002024-08-21T00:00:00.000+00:00.pkl'\n",
    "\n",
    "with open(people_pickle_a, 'rb') as f:\n",
    "    person_dict_a = pickle.load(f)"
   ]
  },
  {
   "cell_type": "code",
   "execution_count": 8,
   "id": "04651e7b",
   "metadata": {},
   "outputs": [
    {
     "name": "stdout",
     "output_type": "stream",
     "text": [
      "People: 36\n",
      "Commits: 157\n",
      "Additions 40054\n",
      "Deletions 14080\n"
     ]
    }
   ],
   "source": [
    "people = len(person_dict_a)\n",
    "commits = 0\n",
    "additions = 0\n",
    "deletions = 0\n",
    "\n",
    "for key,value in person_dict_a.items():\n",
    "    # Normalize company names and use emails to derive Amazon affiliations\n",
    "    if value['company'] == None:\n",
    "        for email in value['email']:\n",
    "            if any(x in email.lower() for x in ['redis.com', 'redislabs.com']):\n",
    "                person_dict_a[key]['company'] = 'Redis Labs'\n",
    "            if 'amazon.com' in email:\n",
    "                person_dict_a[key]['company'] = 'Amazon'\n",
    "    elif 'redis' in value['company'].lower():\n",
    "        person_dict_a[key]['company'] = 'Redis Labs'\n",
    "    elif 'alibaba' in value['company'].lower():\n",
    "        person_dict_a[key]['company'] = 'Alibaba'\n",
    "    elif any(x in value['company'].lower() for x in ['aws','amazon']):\n",
    "        person_dict_a[key]['company'] = 'Amazon'\n",
    "    \n",
    "        \n",
    "    # Get descriptive statistics\n",
    "    commits = commits + value['commits']\n",
    "    additions = additions + value['additions']\n",
    "    deletions = deletions + value['deletions']\n",
    "    \n",
    "print(\"People:\", people)\n",
    "print(\"Commits:\", commits)\n",
    "print(\"Additions\", additions)\n",
    "print(\"Deletions\", deletions)"
   ]
  },
  {
   "cell_type": "code",
   "execution_count": 10,
   "id": "1b943652",
   "metadata": {},
   "outputs": [
    {
     "name": "stdout",
     "output_type": "stream",
     "text": [
      "tezc {'deletions': 3227, 'company': None, 'additions': 5119, 'commits': 15, 'name': 'Ozan Tezcan', 'email': ['ozantezcan@gmail.com']}\n"
     ]
    }
   ],
   "source": [
    "for key,value in person_dict_a.items():\n",
    "    if (value['commits'] >= 5) and (value['company'] == None):\n",
    "        print(key,value)"
   ]
  },
  {
   "cell_type": "code",
   "execution_count": 11,
   "id": "813ab64a",
   "metadata": {},
   "outputs": [],
   "source": [
    "# Manual Fixes\n",
    "person_dict_a['YaacovHazan']['company'] = 'Redis Labs' # https://www.linkedin.com/in/yaacov-hazan-b8043a99/\n",
    "person_dict_a['tezc']['company'] = 'Redis Labs' # confirmed in conversation with Madelyn Olson on 2024-09-18\n",
    "\n",
    "# Remove bots\n",
    "try:\n",
    "    del person_dict_a['dependabot[bot]']\n",
    "except:\n",
    "    pass"
   ]
  },
  {
   "cell_type": "code",
   "execution_count": 12,
   "id": "6996a45d",
   "metadata": {},
   "outputs": [
    {
     "name": "stdout",
     "output_type": "stream",
     "text": [
      "\n",
      "Redis - people with >= 5 commits: \n",
      "* People: 5 0.1388888888888889 % of people\n",
      "* Commits: 112\n",
      "* Additions: 31664 0.7905327807459929 % of total additions\n",
      "* Deletions: 9822 0.6975852272727273 % of total deletions\n",
      "\n",
      "Other - people with >= 5 commits: \n",
      "* People: 0 0.0 % of people\n",
      "* Commits: 0\n",
      "* Additions: 0 0.0 % of total additions\n",
      "* Deletions: 0 0.0 % of total deletions\n",
      "\n",
      "Totals in dataset of people with >=5 commits:\n",
      "* 0.7905327807459929 % of total additions\n",
      "* 0.6975852272727273 % of total deletions\n"
     ]
    }
   ],
   "source": [
    "org_people = 0\n",
    "org_commits = 0\n",
    "org_additions = 0\n",
    "org_deletions = 0\n",
    "\n",
    "other_people = 0\n",
    "other_commits = 0\n",
    "other_additions = 0\n",
    "other_deletions = 0\n",
    "\n",
    "for key,value in person_dict_a.items():\n",
    "    try:\n",
    "        if value['commits'] >= 5:\n",
    "            if value['company'] == 'Redis Labs':\n",
    "                org_people += 1\n",
    "                org_commits = org_commits + value['commits']\n",
    "                org_additions = org_additions + value['additions']\n",
    "                org_deletions = org_deletions + value['deletions']\n",
    "            else:\n",
    "                other_people += 1\n",
    "                other_commits = other_commits + value['commits']\n",
    "                other_additions = other_additions + value['additions']\n",
    "                other_deletions = other_deletions + value['deletions']\n",
    "                print(key,value)\n",
    "            i+=1\n",
    "    except:\n",
    "        pass\n",
    "\n",
    "print(\"\\nRedis - people with >= 5 commits:\", \"\\n* People:\", org_people, org_people/people, \"% of people\")\n",
    "print(\"* Commits:\", org_commits)\n",
    "print(\"* Additions:\", org_additions, org_additions/additions, \"% of total additions\")\n",
    "print(\"* Deletions:\", org_deletions, org_deletions/deletions, \"% of total deletions\")\n",
    "\n",
    "print(\"\\nOther - people with >= 5 commits:\", \"\\n* People:\", other_people, other_people/people, \"% of people\")\n",
    "print(\"* Commits:\", other_commits)\n",
    "print(\"* Additions:\", other_additions, other_additions/additions, \"% of total additions\")\n",
    "print(\"* Deletions:\", other_deletions, other_deletions/deletions, \"% of total deletions\")\n",
    "      \n",
    "print(\"\\nTotals in dataset of people with >=5 commits:\")\n",
    "print('*', (other_additions + org_additions)/additions, \"% of total additions\")\n",
    "print('*', (other_deletions + org_deletions)/deletions, \"% of total deletions\")"
   ]
  },
  {
   "cell_type": "code",
   "execution_count": 13,
   "id": "269e7ab4",
   "metadata": {},
   "outputs": [
    {
     "name": "stdout",
     "output_type": "stream",
     "text": [
      "|People|Company|Commits|Additions|Deletions|\n",
      "|:---|:---|:---|:---|:---|\n",
      "| hpatro | Amazon | 2 | 148 | 23 |\n",
      "| naglera | Amazon | 2 | 130 | 24 |\n",
      "| ClaytonNorthey92 | None | 2 | 826 | 12 |\n",
      "| yveslb | None | 2 | 785 | 31 |\n",
      "| zuiderkwast | Ericsson Software Technology | 3 | 1608 | 42 |\n",
      "| enjoy-binbin | Tencent Cloud | 2 | 1058 | 95 |\n",
      "| bjosv | @Ericsson  | 1 | 413 | 6 |\n",
      "| vitahlin | None | 2 | 260 | 83 |\n",
      "| j178 | None | 1 | 198 | 135 |\n"
     ]
    }
   ],
   "source": [
    "# Make it easy for the print statements to be copied into a Markdown table\n",
    "print('|People|Company|Commits|Additions|Deletions|')\n",
    "print('|:---|:---|:---|:---|:---|')\n",
    "for key,value in person_dict_a.items():\n",
    "    try:\n",
    "        if (value['company'] != 'Redis Labs') and (value['additions'] >= 50):\n",
    "            print('|', key,'|', value['company'], '|', value['commits'],'|', value['additions'],'|', value['deletions'],'|')\n",
    "\n",
    "    except:\n",
    "        pass"
   ]
  },
  {
   "cell_type": "markdown",
   "id": "e94240a2",
   "metadata": {},
   "source": [
    "This is manually copied from above \n",
    "\n",
    "|People|Company|Commits|Additions|Deletions|\n",
    "|:---|:---|:---|:---|:---|\n",
    "| hpatro | Amazon | 2 | 148 | 23 |\n",
    "| naglera | Amazon | 2 | 130 | 24 |\n",
    "| ClaytonNorthey92 | None | 2 | 826 | 12 |\n",
    "| yveslb | None | 2 | 785 | 31 |\n",
    "| zuiderkwast | Ericsson Software Technology | 3 | 1608 | 42 |\n",
    "| enjoy-binbin | Tencent Cloud | 2 | 1058 | 95 |\n",
    "| bjosv | @Ericsson  | 1 | 413 | 6 |\n",
    "| vitahlin | None | 2 | 260 | 83 |\n",
    "| j178 | None | 1 | 198 | 135 |"
   ]
  },
  {
   "cell_type": "markdown",
   "id": "dcd3e364",
   "metadata": {},
   "source": [
    "# 1 year before relicense (2023-03-20 - 2024-03-20)"
   ]
  },
  {
   "cell_type": "code",
   "execution_count": 14,
   "id": "22744ff7",
   "metadata": {},
   "outputs": [
    {
     "data": {
      "text/plain": [
       "93"
      ]
     },
     "execution_count": 14,
     "metadata": {},
     "output_type": "execute_result"
    }
   ],
   "source": [
    "from pprint import pprint\n",
    "import collections\n",
    "import pandas as pd\n",
    "import pickle\n",
    "\n",
    "# Pickle files generated by this script:\n",
    "# https://github.com/geekygirldawn/project-api-metrics/blob/main/scripts/commits_people.py\n",
    "\n",
    "people_pickle_1yr = '../data-files/redis_people_2023-03-20T00:00:00.000+00:002024-03-20T00:00:00.000+00:00.pkl'\n",
    "\n",
    "with open(people_pickle_1yr, 'rb') as f:\n",
    "    person_dict_1yr = pickle.load(f)\n",
    "    \n",
    "len(person_dict_1yr)"
   ]
  },
  {
   "cell_type": "code",
   "execution_count": 15,
   "id": "d82ca4c7",
   "metadata": {},
   "outputs": [
    {
     "name": "stdout",
     "output_type": "stream",
     "text": [
      "People: 93\n",
      "Commits: 592\n",
      "Additions 236730\n",
      "Deletions 112490\n"
     ]
    }
   ],
   "source": [
    "people = len(person_dict_1yr)\n",
    "commits = 0\n",
    "additions = 0\n",
    "deletions = 0\n",
    "\n",
    "for key,value in person_dict_1yr.items():\n",
    "    # Normalize company names and use emails to derive Amazon affiliations\n",
    "    if value['company'] == None:\n",
    "        for email in value['email']:\n",
    "            if any(x in email.lower() for x in ['redis.com', 'redislabs.com']):\n",
    "                person_dict_1yr[key]['company'] = 'Redis Labs'\n",
    "            if 'amazon.com' in email:\n",
    "                person_dict_1yr[key]['company'] = 'Amazon'\n",
    "    elif 'redis' in value['company'].lower():\n",
    "        person_dict_1yr[key]['company'] = 'Redis Labs'\n",
    "    elif 'alibaba' in value['company'].lower():\n",
    "        person_dict_1yr[key]['company'] = 'Alibaba'\n",
    "    elif any(x in value['company'].lower() for x in ['aws','amazon']):\n",
    "        person_dict_1yr[key]['company'] = 'Amazon'\n",
    "    \n",
    "        \n",
    "    # Get descriptive statistics\n",
    "    commits = commits + value['commits']\n",
    "    additions = additions + value['additions']\n",
    "    deletions = deletions + value['deletions']\n",
    "    \n",
    "print(\"People:\", people)\n",
    "print(\"Commits:\", commits)\n",
    "print(\"Additions\", additions)\n",
    "print(\"Deletions\", deletions)"
   ]
  },
  {
   "cell_type": "code",
   "execution_count": 16,
   "id": "29c0f090",
   "metadata": {},
   "outputs": [
    {
     "name": "stdout",
     "output_type": "stream",
     "text": [
      "YaacovHazan {'name': None, 'company': None, 'additions': 159, 'commits': 12, 'email': ['31382944+YaacovHazan@users.noreply.github.com'], 'deletions': 183}\n",
      "yossigo {'name': 'Yossi Gottlieb', 'company': None, 'additions': 8040, 'commits': 11, 'email': ['yossigo@gmail.com'], 'deletions': 1179}\n",
      "judeng {'name': None, 'company': None, 'additions': 489, 'commits': 10, 'email': ['abc3844@126.com'], 'deletions': 275}\n"
     ]
    }
   ],
   "source": [
    "for key,value in person_dict_1yr.items():\n",
    "    if (value['commits'] >= 10) and (value['company'] == None):\n",
    "        print(key,value)"
   ]
  },
  {
   "cell_type": "code",
   "execution_count": 17,
   "id": "b36d5785",
   "metadata": {},
   "outputs": [],
   "source": [
    "# Manual Fixes\n",
    "person_dict_1yr['YaacovHazan']['company'] = 'Redis Labs' # https://www.linkedin.com/in/yaacov-hazan-b8043a99/\n",
    "person_dict_1yr['yossigo']['company'] = 'Redis Labs'  # https://www.linkedin.com/in/yossi-gottlieb-40842/\n",
    "person_dict_1yr['tezc']['company'] = 'Redis Labs' # confirmed in conversation with Madelyn Olson on 2024-09-18\n",
    "\n",
    "\n",
    "# Remove bots\n",
    "try:\n",
    "    del person_dict_1yr['dependabot[bot]']\n",
    "except:\n",
    "    pass"
   ]
  },
  {
   "cell_type": "code",
   "execution_count": 18,
   "id": "3ef05714",
   "metadata": {},
   "outputs": [
    {
     "name": "stdout",
     "output_type": "stream",
     "text": [
      "CharlesChen888 Looking for a job 21 1362 529\n",
      "lyq2333 Alibaba 10 349 190\n",
      "soloestoy Alibaba 31 828 364\n",
      "judeng None 10 489 275\n",
      "hwware Huawei Technologies 25 763 224\n",
      "roshkhatri Amazon 10 1917 732\n",
      "hpatro Amazon 14 1437 632\n",
      "madolson Amazon 24 3310 1636\n",
      "enjoy-binbin Tencent Cloud 146 3502 1115\n",
      "zuiderkwast Ericsson Software Technology 16 13057 10622\n"
     ]
    }
   ],
   "source": [
    "for key,value in person_dict_1yr.items():\n",
    "    try:\n",
    "        if (value['commits'] >= 10) and (value['company'] != 'Redis Labs'):\n",
    "            print(key,value['company'],value['commits'],value['additions'],value['deletions'])\n",
    "    except:\n",
    "        pass"
   ]
  },
  {
   "cell_type": "code",
   "execution_count": 21,
   "id": "07880456",
   "metadata": {},
   "outputs": [
    {
     "name": "stdout",
     "output_type": "stream",
     "text": [
      "CharlesChen888 {'name': 'Chen Tianjie', 'company': 'Looking for a job', 'additions': 1362, 'commits': 21, 'email': ['chentianjie.ctj@alibaba-inc.com', 'TJ_Chen@outlook.com'], 'deletions': 529}\n",
      "lyq2333 {'name': 'Yanqi Lv', 'company': 'Alibaba', 'additions': 349, 'commits': 10, 'email': ['lvyanqi.lyq@alibaba-inc.com', '50293466+lyq2333@users.noreply.github.com'], 'deletions': 190}\n",
      "meiravgri {'name': None, 'company': None, 'additions': 1272, 'commits': 5, 'email': ['109056284+meiravgri@users.noreply.github.com'], 'deletions': 361}\n",
      "soloestoy {'name': 'zhaozhao.zz', 'company': 'Alibaba', 'additions': 828, 'commits': 31, 'email': ['zhaozhao.zz@alibaba-inc.com'], 'deletions': 364}\n",
      "judeng {'name': None, 'company': None, 'additions': 489, 'commits': 10, 'email': ['abc3844@126.com'], 'deletions': 275}\n",
      "hwware {'name': 'Wen Hui', 'company': 'Huawei Technologies', 'additions': 763, 'commits': 25, 'email': ['wen.hui.ware@gmail.com'], 'deletions': 224}\n",
      "moshekaplan {'name': 'Moshe Kaplan', 'company': None, 'additions': 48, 'commits': 7, 'email': ['mosheekaplan@gmail.com'], 'deletions': 4}\n",
      "roshkhatri {'name': 'Roshan Khatri', 'company': 'Amazon', 'additions': 1917, 'commits': 10, 'email': ['117414976+roshkhatri@users.noreply.github.com', 'rvkhatri@amazon.com'], 'deletions': 732}\n",
      "hpatro {'name': 'Harkrishn Patro', 'company': 'Amazon', 'additions': 1437, 'commits': 14, 'email': ['harkrisp@amazon.com', 'bunty.hari@gmail.com'], 'deletions': 632}\n",
      "madolson {'name': 'Madelyn Olson', 'company': 'Amazon', 'additions': 3310, 'commits': 24, 'email': ['34459052+madolson@users.noreply.github.com', 'madelyneolson@gmail.com'], 'deletions': 1636}\n",
      "enjoy-binbin {'name': 'Binbin', 'company': 'Tencent Cloud', 'additions': 3502, 'commits': 146, 'email': ['binloveplay1314@qq.com'], 'deletions': 1115}\n",
      "zuiderkwast {'name': 'Viktor Söderqvist', 'company': 'Ericsson Software Technology', 'additions': 13057, 'commits': 16, 'email': ['viktor.soderqvist@est.tech'], 'deletions': 10622}\n",
      "\n",
      "Redis - people with >= 5 commits: \n",
      "* People: 6 0.06451612903225806 % of people\n",
      "* Commits: 164\n",
      "* Additions: 189656 0.8011489882989059 % of total additions\n",
      "* Deletions: 83122 0.7389279047026402 % of total deletions\n",
      "\n",
      "Other - people with >= 5 commits: \n",
      "* People: 12 0.12903225806451613 % of people\n",
      "* Commits: 319\n",
      "* Additions: 28334 0.11968909728382546 % of total additions\n",
      "* Deletions: 16684 0.1483154058138501 % of total deletions\n",
      "\n",
      "Totals in dataset of people with >=5 commits:\n",
      "* 0.9208380855827314 % of total additions\n",
      "* 0.8872433105164903 % of total deletions\n"
     ]
    }
   ],
   "source": [
    "org_people = 0\n",
    "org_commits = 0\n",
    "org_additions = 0\n",
    "org_deletions = 0\n",
    "\n",
    "other_people = 0\n",
    "other_commits = 0\n",
    "other_additions = 0\n",
    "other_deletions = 0\n",
    "\n",
    "for key,value in person_dict_1yr.items():\n",
    "    try:\n",
    "        if value['commits'] >= 5:\n",
    "            if value['company'] == 'Redis Labs':\n",
    "                org_people += 1\n",
    "                org_commits = org_commits + value['commits']\n",
    "                org_additions = org_additions + value['additions']\n",
    "                org_deletions = org_deletions + value['deletions']\n",
    "            else:\n",
    "                other_people += 1\n",
    "                other_commits = other_commits + value['commits']\n",
    "                other_additions = other_additions + value['additions']\n",
    "                other_deletions = other_deletions + value['deletions']\n",
    "                print(key,value)\n",
    "            i+=1\n",
    "    except:\n",
    "        pass\n",
    "\n",
    "print(\"\\nRedis - people with >= 5 commits:\", \"\\n* People:\", org_people, org_people/people, \"% of people\")\n",
    "print(\"* Commits:\", org_commits)\n",
    "print(\"* Additions:\", org_additions, org_additions/additions, \"% of total additions\")\n",
    "print(\"* Deletions:\", org_deletions, org_deletions/deletions, \"% of total deletions\")\n",
    "\n",
    "print(\"\\nOther - people with >= 5 commits:\", \"\\n* People:\", other_people, other_people/people, \"% of people\")\n",
    "print(\"* Commits:\", other_commits)\n",
    "print(\"* Additions:\", other_additions, other_additions/additions, \"% of total additions\")\n",
    "print(\"* Deletions:\", other_deletions, other_deletions/deletions, \"% of total deletions\")\n",
    "      \n",
    "print(\"\\nTotals in dataset of people with >=5 commits:\")\n",
    "print('*', (other_additions + org_additions)/additions, \"% of total additions\")\n",
    "print('*', (other_deletions + org_deletions)/deletions, \"% of total deletions\")"
   ]
  },
  {
   "cell_type": "code",
   "execution_count": 25,
   "id": "29e36e1c",
   "metadata": {},
   "outputs": [
    {
     "name": "stdout",
     "output_type": "stream",
     "text": [
      "|People|Company|Commits|Additions|Deletions|\n",
      "|:---|:---|:---|:---|:---|\n",
      "| CharlesChen888 | Looking for a job | 21 | 1362 | 529 |\n",
      "| lyq2333 | Alibaba | 10 | 349 | 190 |\n",
      "| meiravgri | None | 5 | 1272 | 361 |\n",
      "| soloestoy | Alibaba | 31 | 828 | 364 |\n",
      "| judeng | None | 10 | 489 | 275 |\n",
      "| hwware | Huawei Technologies | 25 | 763 | 224 |\n",
      "| moshekaplan | None | 7 | 48 | 4 |\n",
      "| roshkhatri | Amazon | 10 | 1917 | 732 |\n",
      "| hpatro | Amazon | 14 | 1437 | 632 |\n",
      "| madolson | Amazon | 24 | 3310 | 1636 |\n",
      "| enjoy-binbin | Tencent Cloud | 146 | 3502 | 1115 |\n",
      "| zuiderkwast | Ericsson Software Technology | 16 | 13057 | 10622 |\n"
     ]
    }
   ],
   "source": [
    "# Make it easy for the print statements to be copied into a Markdown table\n",
    "print('|People|Company|Commits|Additions|Deletions|')\n",
    "print('|:---|:---|:---|:---|:---|')\n",
    "for key,value in person_dict_1yr.items():\n",
    "    try:\n",
    "        if (value['company'] != 'Redis Labs') and (value['commits'] >= 5):\n",
    "            print('|', key,'|', value['company'], '|', value['commits'],'|', value['additions'],'|', value['deletions'],'|')\n",
    "\n",
    "    except:\n",
    "        pass"
   ]
  },
  {
   "cell_type": "markdown",
   "id": "e88fb677",
   "metadata": {},
   "source": [
    "Manually copied from above\n",
    "\n",
    "|People|Company|Commits|Additions|Deletions|\n",
    "|:---|:---|:---|:---|:---|\n",
    "| CharlesChen888 | Looking for a job | 21 | 1362 | 529 |\n",
    "| felipou | None | 1 | 138 | 0 |\n",
    "| lyq2333 | Alibaba | 10 | 349 | 190 |\n",
    "| meiravgri | None | 5 | 1272 | 361 |\n",
    "| slavak | None | 3 | 267 | 75 |\n",
    "| soloestoy | Alibaba | 31 | 828 | 364 |\n",
    "| judeng | None | 10 | 489 | 275 |\n",
    "| hwware | Huawei Technologies | 25 | 763 | 224 |\n",
    "| roshkhatri | Amazon | 10 | 1917 | 732 |\n",
    "| hpatro | Amazon | 14 | 1437 | 632 |\n",
    "| madolson | Amazon | 24 | 3310 | 1636 |\n",
    "| vitarb | None | 2 | 2312 | 1128 |\n",
    "| panjf2000 | @gnet-io | 3 | 163 | 73 |\n",
    "| enjoy-binbin | Tencent Cloud | 146 | 3502 | 1115 |\n",
    "| zuiderkwast | Ericsson Software Technology | 16 | 13057 | 10622 |"
   ]
  },
  {
   "cell_type": "markdown",
   "id": "68e7c437",
   "metadata": {},
   "source": [
    "# 2 years before relicense (2022-03-20 - 2024-03-20)"
   ]
  },
  {
   "cell_type": "code",
   "execution_count": 26,
   "id": "7123f7f0",
   "metadata": {},
   "outputs": [
    {
     "data": {
      "text/plain": [
       "184"
      ]
     },
     "execution_count": 26,
     "metadata": {},
     "output_type": "execute_result"
    }
   ],
   "source": [
    "from pprint import pprint\n",
    "import collections\n",
    "import pandas as pd\n",
    "import pickle\n",
    "\n",
    "# Pickle files generated by this script:\n",
    "# https://github.com/geekygirldawn/project-api-metrics/blob/main/scripts/commits_people.py\n",
    "\n",
    "people_pickle_2yr = '../data-files/redis_people_2022-03-20T00:00:00.000+00:002024-03-20T00:00:00.000+00:00.pkl'\n",
    "\n",
    "with open(people_pickle_2yr, 'rb') as f:\n",
    "    person_dict_2yr = pickle.load(f)\n",
    "    \n",
    "len(person_dict_2yr)"
   ]
  },
  {
   "cell_type": "code",
   "execution_count": 27,
   "id": "2ddef03e",
   "metadata": {},
   "outputs": [
    {
     "name": "stdout",
     "output_type": "stream",
     "text": [
      "People: 184\n",
      "Commits: 1331\n",
      "Additions 323721\n",
      "Deletions 132462\n"
     ]
    }
   ],
   "source": [
    "people = len(person_dict_2yr)\n",
    "commits = 0\n",
    "additions = 0\n",
    "deletions = 0\n",
    "\n",
    "for key,value in person_dict_2yr.items():\n",
    "    # Normalize company names and use emails to derive Amazon affiliations\n",
    "    if value['company'] == None:\n",
    "        for email in value['email']:\n",
    "            if any(x in email.lower() for x in ['redis.com', 'redislabs.com']):\n",
    "                person_dict_2yr[key]['company'] = 'Redis Labs'\n",
    "            if 'amazon.com' in email:\n",
    "                person_dict_2yr[key]['company'] = 'Amazon'\n",
    "    elif 'redis' in value['company'].lower():\n",
    "        person_dict_2yr[key]['company'] = 'Redis Labs'\n",
    "    elif 'alibaba' in value['company'].lower():\n",
    "        person_dict_2yr[key]['company'] = 'Alibaba'\n",
    "    elif any(x in value['company'].lower() for x in ['aws','amazon']):\n",
    "        person_dict_2yr[key]['company'] = 'Amazon'\n",
    "    \n",
    "        \n",
    "    # Get descriptive statistics\n",
    "    commits = commits + value['commits']\n",
    "    additions = additions + value['additions']\n",
    "    deletions = deletions + value['deletions']\n",
    "    \n",
    "print(\"People:\", people)\n",
    "print(\"Commits:\", commits)\n",
    "print(\"Additions\", additions)\n",
    "print(\"Deletions\", deletions)"
   ]
  },
  {
   "cell_type": "code",
   "execution_count": 28,
   "id": "6b766b08",
   "metadata": {},
   "outputs": [
    {
     "name": "stdout",
     "output_type": "stream",
     "text": [
      "YaacovHazan {'additions': 164, 'deletions': 184, 'name': None, 'email': ['31382944+YaacovHazan@users.noreply.github.com'], 'commits': 13, 'company': None}\n",
      "tezc {'additions': 7944, 'deletions': 569, 'name': 'Ozan Tezcan', 'email': ['ozantezcan@gmail.com'], 'commits': 20, 'company': None}\n",
      "yossigo {'additions': 10351, 'deletions': 1522, 'name': 'Yossi Gottlieb', 'email': ['yossigo@gmail.com'], 'commits': 25, 'company': None}\n",
      "dependabot[bot] {'additions': 58, 'deletions': 59, 'name': None, 'email': ['49699333+dependabot[bot]@users.noreply.github.com'], 'commits': 11, 'company': None}\n",
      "judeng {'additions': 610, 'deletions': 378, 'name': None, 'email': ['abc3844@126.com'], 'commits': 23, 'company': None}\n"
     ]
    }
   ],
   "source": [
    "for key,value in person_dict_2yr.items():\n",
    "    if (value['commits'] >= 10) and (value['company'] == None):\n",
    "        print(key,value)"
   ]
  },
  {
   "cell_type": "code",
   "execution_count": 29,
   "id": "ce472ac7",
   "metadata": {},
   "outputs": [],
   "source": [
    "# Manual Fixes\n",
    "person_dict_2yr['YaacovHazan']['company'] = 'Redis Labs' # https://www.linkedin.com/in/yaacov-hazan-b8043a99/\n",
    "person_dict_2yr['yossigo']['company'] = 'Redis Labs'  # https://www.linkedin.com/in/yossi-gottlieb-40842/\n",
    "person_dict_2yr['tezc']['company'] = 'Redis Labs' # confirmed in conversation with Madelyn Olson on 2024-09-18\n",
    "\n",
    "# Remove bots\n",
    "try:\n",
    "    del person_dict_2yr['dependabot[bot]']\n",
    "except:\n",
    "    pass"
   ]
  },
  {
   "cell_type": "code",
   "execution_count": 30,
   "id": "610e2b96",
   "metadata": {},
   "outputs": [
    {
     "name": "stdout",
     "output_type": "stream",
     "text": [
      "CharlesChen888 Looking for a job 25 1701 559\n",
      "ncghost1 Magic School 10 62 15\n",
      "pizhenwei ByteDance 22 1576 824\n",
      "enjoy-binbin Tencent Cloud 263 6749 2457\n",
      "soloestoy Alibaba 40 1025 511\n",
      "judeng None 23 610 378\n",
      "lyq2333 Alibaba 10 349 190\n",
      "madolson Amazon 67 11318 3320\n",
      "hpatro Amazon 20 1791 728\n",
      "hwware Huawei Technologies 57 1205 330\n",
      "roshkhatri Amazon 11 1964 734\n",
      "zuiderkwast Ericsson Software Technology 38 15994 11944\n"
     ]
    }
   ],
   "source": [
    "for key,value in person_dict_2yr.items():\n",
    "    try:\n",
    "        if (value['commits'] >= 10) and (value['company'] != 'Redis Labs'):\n",
    "            print(key,value['company'],value['commits'],value['additions'],value['deletions'])\n",
    "    except:\n",
    "        pass"
   ]
  },
  {
   "cell_type": "code",
   "execution_count": 32,
   "id": "3e557e6d",
   "metadata": {},
   "outputs": [
    {
     "name": "stdout",
     "output_type": "stream",
     "text": [
      "devnexen {'additions': 139, 'deletions': 17, 'name': 'David CARLIER', 'email': ['devnexen@gmail.com'], 'commits': 7, 'company': None}\n",
      "CharlesChen888 {'additions': 1701, 'deletions': 559, 'name': 'Chen Tianjie', 'email': ['chentianjie.ctj@alibaba-inc.com', 'TJ_Chen@outlook.com'], 'commits': 25, 'company': 'Looking for a job'}\n",
      "ncghost1 {'additions': 62, 'deletions': 15, 'name': 'Eriri', 'email': ['275955589@qq.com', 'eriri233@qq.com', '41555481+ncghost1@users.noreply.github.com'], 'commits': 10, 'company': 'Magic School'}\n",
      "pizhenwei {'additions': 1576, 'deletions': 824, 'name': 'zhenwei pi', 'email': ['pizhenwei@bytedance.com'], 'commits': 22, 'company': 'ByteDance'}\n",
      "enjoy-binbin {'additions': 6749, 'deletions': 2457, 'name': 'Binbin', 'email': ['binloveplay1314@qq.com'], 'commits': 263, 'company': 'Tencent Cloud'}\n",
      "soloestoy {'additions': 1025, 'deletions': 511, 'name': 'zhaozhao.zz', 'email': ['zhaozhao.zz@alibaba-inc.com', '276441700@qq.com'], 'commits': 40, 'company': 'Alibaba'}\n",
      "judeng {'additions': 610, 'deletions': 378, 'name': None, 'email': ['abc3844@126.com'], 'commits': 23, 'company': None}\n",
      "lyq2333 {'additions': 349, 'deletions': 190, 'name': 'Yanqi Lv', 'email': ['lvyanqi.lyq@alibaba-inc.com', '50293466+lyq2333@users.noreply.github.com'], 'commits': 10, 'company': 'Alibaba'}\n",
      "madolson {'additions': 11318, 'deletions': 3320, 'name': 'Madelyn Olson', 'email': ['34459052+madolson@users.noreply.github.com', 'madelyneolson@gmail.com', 'matolson@amazon.com'], 'commits': 67, 'company': 'Amazon'}\n",
      "DarrenJiang13 {'additions': 121, 'deletions': 37, 'name': None, 'email': ['yjjiang1996@163.com'], 'commits': 7, 'company': 'Shanghai Jiaotong University'}\n",
      "ranshid {'additions': 1112, 'deletions': 895, 'name': None, 'email': ['88133677+ranshid@users.noreply.github.com'], 'commits': 7, 'company': 'Amazon'}\n",
      "yoav-steinberg {'additions': 852, 'deletions': 412, 'name': None, 'email': ['yoav@redislabs.com', 'yoavs@monada.co', 'yoav@monfort.co.il'], 'commits': 6, 'company': 'Monada Inc.'}\n",
      "meiravgri {'additions': 1272, 'deletions': 361, 'name': None, 'email': ['109056284+meiravgri@users.noreply.github.com'], 'commits': 5, 'company': None}\n",
      "uvletter {'additions': 458, 'deletions': 94, 'name': 'Tian', 'email': ['skylypig@gmail.com'], 'commits': 8, 'company': None}\n",
      "huangzhw {'additions': 698, 'deletions': 201, 'name': 'Huang Zhw', 'email': ['huang_zhw@126.com'], 'commits': 8, 'company': 'Netease'}\n",
      "hpatro {'additions': 1791, 'deletions': 728, 'name': 'Harkrishn Patro', 'email': ['harkrisp@amazon.com', 'bunty.hari@gmail.com'], 'commits': 20, 'company': 'Amazon'}\n",
      "hwware {'additions': 1205, 'deletions': 330, 'name': 'Wen Hui', 'email': ['wen.hui.ware@gmail.com'], 'commits': 57, 'company': 'Huawei Technologies'}\n",
      "moshekaplan {'additions': 48, 'deletions': 4, 'name': 'Moshe Kaplan', 'email': ['mosheekaplan@gmail.com'], 'commits': 7, 'company': None}\n",
      "roshkhatri {'additions': 1964, 'deletions': 734, 'name': 'Roshan Khatri', 'email': ['117414976+roshkhatri@users.noreply.github.com', 'rvkhatri@amazon.com'], 'commits': 11, 'company': 'Amazon'}\n",
      "chenyang8094 {'additions': 351, 'deletions': 78, 'name': 'chenyang8094', 'email': ['chenyang8094@users.noreply.github.com'], 'commits': 8, 'company': 'Alibaba'}\n",
      "zuiderkwast {'additions': 15994, 'deletions': 11944, 'name': 'Viktor Söderqvist', 'email': ['viktor.soderqvist@est.tech', 'viktor@zuiderkwast.se'], 'commits': 38, 'company': 'Ericsson Software Technology'}\n",
      "\n",
      "Redis - people with >= 5 commits: \n",
      "* People: 12 0.06521739130434782 % of people\n",
      "* Commits: 458\n",
      "* Additions: 244746 0.7560399232672579 % of total additions\n",
      "* Deletions: 94566 0.7139104044933642 % of total deletions\n",
      "\n",
      "Other - people with >= 5 commits: \n",
      "* People: 21 0.11413043478260869 % of people\n",
      "* Commits: 649\n",
      "* Additions: 49395 0.15258509642562576 % of total additions\n",
      "* Deletions: 24089 0.1818559284926998 % of total deletions\n",
      "\n",
      "Totals in dataset of people with >=5 commits:\n",
      "* 0.9086250196928837 % of total additions\n",
      "* 0.8957663329860639 % of total deletions\n"
     ]
    }
   ],
   "source": [
    "org_people = 0\n",
    "org_commits = 0\n",
    "org_additions = 0\n",
    "org_deletions = 0\n",
    "\n",
    "other_people = 0\n",
    "other_commits = 0\n",
    "other_additions = 0\n",
    "other_deletions = 0\n",
    "\n",
    "for key,value in person_dict_2yr.items():\n",
    "    try:\n",
    "        if value['commits'] >= 5:\n",
    "            if value['company'] == 'Redis Labs':\n",
    "                org_people += 1\n",
    "                org_commits = org_commits + value['commits']\n",
    "                org_additions = org_additions + value['additions']\n",
    "                org_deletions = org_deletions + value['deletions']\n",
    "            else:\n",
    "                other_people += 1\n",
    "                other_commits = other_commits + value['commits']\n",
    "                other_additions = other_additions + value['additions']\n",
    "                other_deletions = other_deletions + value['deletions']\n",
    "                print(key,value)\n",
    "            i+=1\n",
    "    except:\n",
    "        pass\n",
    "\n",
    "print(\"\\nRedis - people with >= 5 commits:\", \"\\n* People:\", org_people, org_people/people, \"% of people\")\n",
    "print(\"* Commits:\", org_commits)\n",
    "print(\"* Additions:\", org_additions, org_additions/additions, \"% of total additions\")\n",
    "print(\"* Deletions:\", org_deletions, org_deletions/deletions, \"% of total deletions\")\n",
    "\n",
    "print(\"\\nOther - people with >= 5 commits:\", \"\\n* People:\", other_people, other_people/people, \"% of people\")\n",
    "print(\"* Commits:\", other_commits)\n",
    "print(\"* Additions:\", other_additions, other_additions/additions, \"% of total additions\")\n",
    "print(\"* Deletions:\", other_deletions, other_deletions/deletions, \"% of total deletions\")\n",
    "      \n",
    "print(\"\\nTotals in dataset of people with >=5 commits:\")\n",
    "print('*', (other_additions + org_additions)/additions, \"% of total additions\")\n",
    "print('*', (other_deletions + org_deletions)/deletions, \"% of total deletions\")"
   ]
  },
  {
   "cell_type": "code",
   "execution_count": null,
   "id": "0693b3da",
   "metadata": {},
   "outputs": [],
   "source": []
  }
 ],
 "metadata": {
  "kernelspec": {
   "display_name": "Python 3",
   "language": "python",
   "name": "python3"
  },
  "language_info": {
   "codemirror_mode": {
    "name": "ipython",
    "version": 3
   },
   "file_extension": ".py",
   "mimetype": "text/x-python",
   "name": "python",
   "nbconvert_exporter": "python",
   "pygments_lexer": "ipython3",
   "version": "3.11.10"
  }
 },
 "nbformat": 4,
 "nbformat_minor": 5
}
