{
 "cells": [
  {
   "cell_type": "markdown",
   "id": "dfaab410",
   "metadata": {},
   "source": [
    "## Summary\n",
    "\n",
    "### tl;dr\n",
    "\n",
    "Notes:\n",
    "* OpenSearch is an Amazon AWS Project and was forked from Elasticsearch on 2021-04-12\n",
    "* Caveat: This is purely a summary of the data that has not been validated from anyone within the community\n",
    "* Analysis of contributions to one repo: https://github.com/opensearch-project/OpenSearch\n",
    "\n",
    "While Amazon / AWS have always been the dominant contributor to OpenSearch, the organizational diversity has been gradually improving:\n",
    "* In the first year of the fork, Amazon / AWS made 80% of the additions and 90% of the deletions within the https://github.com/opensearch-project/OpenSearch repo with only 3 external people making more than 5 commits.\n",
    "* In the past year, Amazon employees made 64% of the additions and 67% of the deletions with 10 people making more than 5 commits. However, most of this was due to one individual from Aiven who made 41988 additions and 15552 deletions.\n",
    "\n",
    "### After the Fork - All Time (2021-04-12 - 2024-08-01)\n",
    "\n",
    "Amazon / AWS - people with >= 10 commits: \n",
    "* People: 63 0.20930232558139536 % of people\n",
    "* Commits: 2455\n",
    "* Additions: 830653 0.6956228634786963 % of total additions\n",
    "* Deletions: 383794 0.8267947737481015 % of total deletions\n",
    "\n",
    "Other - people with >= 10 commits: \n",
    "* People: 7 0.023255813953488372 % of people\n",
    "* Commits: 568\n",
    "* Additions: 119587 0.1001470546363245 % of total additions\n",
    "* Deletions: 43842 0.09444737664128222 % of total deletions\n",
    "\n",
    "Totals in dataset of people with >=10 commits:\n",
    "* 0.7957699181150208 % of total additions\n",
    "* 0.9212421503893837 % of total deletions\n",
    "\n",
    "### First Year After the Fork (2021-04-12 to 2022-04-12)\n",
    "\n",
    "Amazon / AWS - people with >= 10 commits: \n",
    "* People: 7 0.07526881720430108 % of people\n",
    "* Commits: 246\n",
    "* Additions: 296720 0.8019827938040397 % of total additions\n",
    "* Deletions: 224179 0.9090241874987328 % of total deletions\n",
    "\n",
    "Other - people with >= 10 commits: \n",
    "* People: 2 0.021505376344086023 % of people\n",
    "* Commits: 110\n",
    "* Additions: 26995 0.0729628118048667 % of total additions\n",
    "* Deletions: 10799 0.043788901729416296 % of total deletions\n",
    "\n",
    "Totals in dataset of people with >=10 commits:\n",
    "* 0.8749456056089063 % of total additions\n",
    "* 0.9528130892281491 % of total deletions\n",
    "\n",
    "|Person|Company|Commits|Additions|Deletions|\n",
    "|:---|:---|:---|:---|:---|\n",
    "| reta | Aiven | 74 | 15854 | 2981 |\n",
    "| xuezhou25 | None | 8 | 116 | 280 |\n",
    "| adnapibar | Microsoft | 36 | 11141 | 7818 |\n",
    "\n",
    "### Past Year (2023-08-01 to 2024-08-01)\n",
    "\n",
    "Amazon / AWS - people with >= 10 commits: \n",
    "* People: 43 0.25903614457831325 % of people\n",
    "* Commits: 979\n",
    "* Additions: 244896 0.6380956351356986 % of total additions\n",
    "* Deletions: 67572 0.6679517214791969 % of total deletions\n",
    "\n",
    "Other - people with >= 10 commits: \n",
    "* People: 3 0.018072289156626505 % of people\n",
    "* Commits: 215\n",
    "* Additions: 44458 0.11583878767665819 % of total additions\n",
    "* Deletions: 16057 0.15872403942152763 % of total deletions\n",
    "\n",
    "Totals in dataset of people with >=10 commits:\n",
    "* 0.7539344228123567 % of total additions\n",
    "* 0.8266757609007246 % of total deletions\n",
    "\n",
    "|Person|Company|Commits|Additions|Deletions|\n",
    "|:---|:---|:---|:---|:---|\n",
    "| reta | Aiven | 187 | 41988 | 15552 |\n",
    "| lukas-vlcek | Aiven | 8 | 486 | 61 |\n",
    "| kkewwei | None | 14 | 1302 | 81 |\n",
    "| SwethaGuptha | None | 7 | 942 | 256 |\n",
    "| skumawat2025 | IIT Kharagpur | 8 | 2615 | 523 |\n",
    "| rajiv-kv | None | 8 | 2320 | 139 |\n",
    "| bugmakerrrrrr | None | 14 | 1168 | 424 |\n",
    "| dzane17 | None | 9 | 2193 | 513 |\n",
    "| akolarkunnu | NetApp | 6 | 48 | 63 |\n",
    "| ketanv3 | @google | 9 | 2734 | 2328 |\n",
    "\n",
    "### Additional Notes\n",
    "\n",
    "Nick Knize (nknize) left Elastic and joined Amazon well before the 2021-02-03 Elastic relicensing, but was instrumental in creating the OpenSearch fork. Stopped committing in Aug 2023 before he left Amazon, so all of his commits can be attributed to Amazon.\n",
    "* Amazon: Nov 2020 - Mar 2024\n",
    "* Elastic: Nov 2014 - Nov 2020"
   ]
  },
  {
   "cell_type": "markdown",
   "id": "b1515cb6",
   "metadata": {},
   "source": [
    "# After the Fork - All Time (2021-04-12 - 2024-08-01)"
   ]
  },
  {
   "cell_type": "code",
   "execution_count": 7,
   "id": "af9e1e58",
   "metadata": {},
   "outputs": [],
   "source": [
    "from pprint import pprint\n",
    "import collections\n",
    "import pandas as pd\n",
    "import pickle\n",
    "\n",
    "# Pickle files generated by this script:\n",
    "# https://github.com/geekygirldawn/project-api-metrics/blob/main/scripts/commits_people.py\n",
    "\n",
    "people_pickle = '../data-files/OpenSearch_people_2021-04-12T00:00:00.000+00:002024-08-01T00:00:00.000+00:00.pkl'\n",
    "\n",
    "with open(people_pickle, 'rb') as f:\n",
    "    person_dict = pickle.load(f)"
   ]
  },
  {
   "cell_type": "code",
   "execution_count": 8,
   "id": "f4eafbbb",
   "metadata": {},
   "outputs": [
    {
     "name": "stdout",
     "output_type": "stream",
     "text": [
      "People: 301\n",
      "Commits: 4538\n",
      "Additions 1194114\n",
      "Deletions 464195\n"
     ]
    }
   ],
   "source": [
    "people = len(person_dict)\n",
    "commits = 0\n",
    "additions = 0\n",
    "deletions = 0\n",
    "\n",
    "for key,value in person_dict.items():\n",
    "    # Normalize company names and use emails to derive Amazon affiliations\n",
    "    if value['company'] == None:\n",
    "        for email in value['email']:\n",
    "            if \"amazon.com\" in email:\n",
    "                person_dict[key]['company'] = 'Amazon'\n",
    "    elif any(x in value['company'].lower() for x in ['aws','amazon']):\n",
    "        person_dict[key]['company'] = 'Amazon'\n",
    "    elif \"aiven\" in value['company'].lower():\n",
    "        person_dict[key]['company'] = 'Aiven'\n",
    "        \n",
    "    # Get descriptive statistics\n",
    "    commits = commits + value['commits']\n",
    "    additions = additions + value['additions']\n",
    "    deletions = deletions + value['deletions']\n",
    "    \n",
    "print(\"People:\", people)\n",
    "print(\"Commits:\", commits)\n",
    "print(\"Additions\", additions)\n",
    "print(\"Deletions\", deletions)"
   ]
  },
  {
   "cell_type": "code",
   "execution_count": 9,
   "id": "5d83eaab",
   "metadata": {},
   "outputs": [
    {
     "name": "stdout",
     "output_type": "stream",
     "text": [
      "kkewwei {'company': None, 'name': 'kkewwei', 'commits': 14, 'additions': 1302, 'deletions': 81, 'email': ['kkewwei@163.com', 'kewei.11@bytedance.com']}\n",
      "SwethaGuptha {'company': None, 'name': None, 'commits': 7, 'additions': 942, 'deletions': 256, 'email': ['156877431+SwethaGuptha@users.noreply.github.com']}\n",
      "dependabot[bot] {'company': None, 'name': None, 'commits': 860, 'additions': 8146, 'deletions': 6703, 'email': ['49699333+dependabot[bot]@users.noreply.github.com', 'dependabot[bot]@users.noreply.github.com']}\n",
      "opensearch-trigger-bot[bot] {'company': None, 'name': None, 'commits': 26, 'additions': 432, 'deletions': 62, 'email': ['98922864+opensearch-trigger-bot[bot]@users.noreply.github.com', 'opensearch-trigger-bot[bot]@users.noreply.github.com']}\n",
      "shourya035 {'company': None, 'name': 'Shourya Dutta Biswas', 'commits': 21, 'additions': 7908, 'deletions': 1799, 'email': ['114977491+shourya035@users.noreply.github.com']}\n",
      "rajiv-kv {'company': None, 'name': None, 'commits': 8, 'additions': 2320, 'deletions': 139, 'email': ['157019998+rajiv-kv@users.noreply.github.com']}\n",
      "bugmakerrrrrr {'company': None, 'name': 'panguixin', 'commits': 14, 'additions': 1168, 'deletions': 424, 'email': ['panguixin@bytedance.com']}\n",
      "dzane17 {'company': None, 'name': 'David Zane', 'commits': 9, 'additions': 2193, 'deletions': 513, 'email': ['38449481+dzane17@users.noreply.github.com']}\n",
      "rishabhmaurya {'company': None, 'name': 'Rishabh Maurya', 'commits': 18, 'additions': 13740, 'deletions': 980, 'email': ['rishabhmaurya05@gmail.com']}\n",
      "Rishikesh1159 {'company': None, 'name': 'Rishikesh', 'commits': 76, 'additions': 9336, 'deletions': 2644, 'email': ['62345295+Rishikesh1159@users.noreply.github.com', 'rishireddy1159@gmail.com']}\n"
     ]
    }
   ],
   "source": [
    "for key,value in person_dict.items():\n",
    "    try:\n",
    "        if (value['commits'] > 5) and (value['company'] == None):\n",
    "            print(key,value)\n",
    "    except:\n",
    "        pass"
   ]
  },
  {
   "cell_type": "code",
   "execution_count": 10,
   "id": "d8861561",
   "metadata": {},
   "outputs": [],
   "source": [
    "# Manual Fixes\n",
    "person_dict['nknize']['company'] = 'Amazon' # https://www.linkedin.com/in/nknize/\n",
    "person_dict['Rishikesh1159']['company'] = 'Amazon' # https://www.linkedin.com/in/rishikesh-reddy-pasham-678271164/\n",
    "person_dict['rishabhmaurya']['company'] = 'Amazon' # https://www.linkedin.com/in/rishabh-maurya/\n",
    "person_dict['shourya035']['company'] = 'Amazon' # https://www.linkedin.com/in/shourya-dutta-biswas-436a0b132/\n",
    "person_dict['bowenlan-amzn']['company'] = 'Amazon' # https://www.linkedin.com/in/lanbowen23/\n",
    "person_dict['harshavamsi']['company'] = 'Amazon' # https://www.linkedin.com/in/harshavamsi/\n",
    "person_dict['vikasvb90']['company'] = 'Amazon' # https://www.linkedin.com/in/vikasbansal1/\n",
    "person_dict['mattweber']['company'] = 'Amazon' # https://www.linkedin.com/in/matthew-g-weber/\n",
    "\n",
    "\n",
    "# Remove bots\n",
    "del person_dict['dependabot[bot]']\n",
    "del person_dict['opensearch-trigger-bot[bot]']\n",
    "del person_dict['opensearch-ci-bot']"
   ]
  },
  {
   "cell_type": "code",
   "execution_count": 11,
   "id": "977b7b9c",
   "metadata": {},
   "outputs": [
    {
     "name": "stdout",
     "output_type": "stream",
     "text": [
      "reta {'company': 'Aiven', 'name': 'Andriy Redko', 'commits': 433, 'additions': 89592, 'deletions': 28781, 'email': ['andriy.redko@aiven.io', 'drreta@gmail.com']}\n",
      "lukas-vlcek {'company': 'Aiven', 'name': 'Lukáš Vlček', 'commits': 16, 'additions': 3507, 'deletions': 326, 'email': ['lukas.vlcek@aiven.io']}\n",
      "kkewwei {'company': None, 'name': 'kkewwei', 'commits': 14, 'additions': 1302, 'deletions': 81, 'email': ['kkewwei@163.com', 'kewei.11@bytedance.com']}\n",
      "bugmakerrrrrr {'company': None, 'name': 'panguixin', 'commits': 14, 'additions': 1168, 'deletions': 424, 'email': ['panguixin@bytedance.com']}\n",
      "ketanv3 {'company': '@google', 'name': 'Ketan Verma', 'commits': 17, 'additions': 9216, 'deletions': 2809, 'email': ['9292653+ketanv3@users.noreply.github.com', 'ketanv3@users.noreply.github.com']}\n",
      "willyborankin {'company': 'Aiven', 'name': 'Andrey Pleskach', 'commits': 10, 'additions': 1826, 'deletions': 682, 'email': ['ples@aiven.io']}\n",
      "adnapibar {'company': 'Microsoft', 'name': 'Rabi Panda', 'commits': 64, 'additions': 12976, 'deletions': 10739, 'email': ['adnapibar@gmail.com']}\n",
      "\n",
      "Amazon / AWS - people with >= 10 commits: \n",
      "* People: 63 0.20930232558139536 % of people\n",
      "* Commits: 2455\n",
      "* Additions: 830653 0.6956228634786963 % of total additions\n",
      "* Deletions: 383794 0.8267947737481015 % of total deletions\n",
      "\n",
      "Other - people with >= 10 commits: \n",
      "* People: 7 0.023255813953488372 % of people\n",
      "* Commits: 568\n",
      "* Additions: 119587 0.1001470546363245 % of total additions\n",
      "* Deletions: 43842 0.09444737664128222 % of total deletions\n",
      "\n",
      "Totals in dataset of people with >=10 commits:\n",
      "* 0.7957699181150208 % of total additions\n",
      "* 0.9212421503893837 % of total deletions\n"
     ]
    }
   ],
   "source": [
    "org_people = 0\n",
    "org_commits = 0\n",
    "org_additions = 0\n",
    "org_deletions = 0\n",
    "\n",
    "other_people = 0\n",
    "other_commits = 0\n",
    "other_additions = 0\n",
    "other_deletions = 0\n",
    "\n",
    "for key,value in person_dict.items():\n",
    "    try:\n",
    "        if value['commits'] >= 10:\n",
    "            if value['company'] == 'Amazon':\n",
    "                org_people += 1\n",
    "                org_commits = org_commits + value['commits']\n",
    "                org_additions = org_additions + value['additions']\n",
    "                org_deletions = org_deletions + value['deletions']\n",
    "            else:\n",
    "                other_people += 1\n",
    "                other_commits = other_commits + value['commits']\n",
    "                other_additions = other_additions + value['additions']\n",
    "                other_deletions = other_deletions + value['deletions']\n",
    "                print(key,value)\n",
    "            i+=1\n",
    "    except:\n",
    "        pass\n",
    "    \n",
    "print(\"\\nAmazon / AWS - people with >= 10 commits:\", \"\\n* People:\", org_people, org_people/people, \"% of people\")\n",
    "print(\"* Commits:\", org_commits)\n",
    "print(\"* Additions:\", org_additions, org_additions/additions, \"% of total additions\")\n",
    "print(\"* Deletions:\", org_deletions, org_deletions/deletions, \"% of total deletions\")\n",
    "\n",
    "print(\"\\nOther - people with >= 10 commits:\", \"\\n* People:\", other_people, other_people/people, \"% of people\")\n",
    "print(\"* Commits:\", other_commits)\n",
    "print(\"* Additions:\", other_additions, other_additions/additions, \"% of total additions\")\n",
    "print(\"* Deletions:\", other_deletions, other_deletions/deletions, \"% of total deletions\")\n",
    "      \n",
    "print(\"\\nTotals in dataset of people with >=10 commits:\")\n",
    "print('*', (other_additions + org_additions)/additions, \"% of total additions\")\n",
    "print('*', (other_deletions + org_deletions)/deletions, \"% of total deletions\")"
   ]
  },
  {
   "cell_type": "code",
   "execution_count": 12,
   "id": "c09c1f40",
   "metadata": {},
   "outputs": [
    {
     "name": "stdout",
     "output_type": "stream",
     "text": [
      "|Person|Company|Commits|Additions|Deletions|\n",
      "|:---|:---|:---|:---|:---|\n",
      "| reta | Aiven | 433 | 89592 | 28781 |\n",
      "| lukas-vlcek | Aiven | 16 | 3507 | 326 |\n",
      "| kkewwei | None | 14 | 1302 | 81 |\n",
      "| SwethaGuptha | None | 7 | 942 | 256 |\n",
      "| skumawat2025 | IIT Kharagpur | 8 | 2615 | 523 |\n",
      "| rajiv-kv | None | 8 | 2320 | 139 |\n",
      "| bugmakerrrrrr | None | 14 | 1168 | 424 |\n",
      "| dzane17 | None | 9 | 2193 | 513 |\n",
      "| akolarkunnu | NetApp | 6 | 48 | 63 |\n",
      "| austintlee | Aryn | 8 | 1439 | 78 |\n",
      "| ketanv3 | @google | 17 | 9216 | 2809 |\n",
      "| willyborankin | Aiven | 10 | 1826 | 682 |\n",
      "| rursprung | avaloq | 6 | 202 | 363 |\n",
      "| adnapibar | Microsoft | 64 | 12976 | 10739 |\n",
      "| mohit0193 | Salesforce | 6 | 11202 | 720 |\n"
     ]
    }
   ],
   "source": [
    "# Make it easy for the print statements to be copied into a Markdown table\n",
    "print('|Person|Company|Commits|Additions|Deletions|')\n",
    "print('|:---|:---|:---|:---|:---|')\n",
    "\n",
    "for key,value in person_dict.items():\n",
    "    try:\n",
    "        if (value['commits'] > 5) and (value['company'] != 'Amazon'):\n",
    "            print('|',key,'|',value['company'],'|',value['commits'],'|',value['additions'],'|',value['deletions'],'|')\n",
    "    except:\n",
    "        pass"
   ]
  },
  {
   "cell_type": "markdown",
   "id": "f1858e44",
   "metadata": {},
   "source": [
    "# First Year After the Fork (2021-04-12 to 2022-04-12)"
   ]
  },
  {
   "cell_type": "code",
   "execution_count": 13,
   "id": "5602eea4",
   "metadata": {},
   "outputs": [],
   "source": [
    "from pprint import pprint\n",
    "import collections\n",
    "import pandas as pd\n",
    "import pickle\n",
    "\n",
    "# Pickle files generated by this script:\n",
    "# https://github.com/geekygirldawn/project-api-metrics/blob/main/scripts/commits_people.py\n",
    "\n",
    "people_pickle_1styr = '../data-files/OpenSearch_people_2021-04-12T00:00:00.000+00:002022-04-12T00:00:00.000+00:00.pkl'\n",
    "\n",
    "with open(people_pickle_1styr, 'rb') as f:\n",
    "    person_dict_1styr = pickle.load(f)"
   ]
  },
  {
   "cell_type": "code",
   "execution_count": 14,
   "id": "10f02c53",
   "metadata": {},
   "outputs": [
    {
     "name": "stdout",
     "output_type": "stream",
     "text": [
      "People: 93\n",
      "Commits: 716\n",
      "Additions 369983\n",
      "Deletions 246615\n"
     ]
    }
   ],
   "source": [
    "people = len(person_dict_1styr)\n",
    "commits = 0\n",
    "additions = 0\n",
    "deletions = 0\n",
    "\n",
    "for key,value in person_dict_1styr.items():\n",
    "    # Normalize company names and use emails to derive Amazon affiliations\n",
    "    if value['company'] == None:\n",
    "        for email in value['email']:\n",
    "            if \"amazon.com\" in email:\n",
    "                person_dict_1styr[key]['company'] = 'Amazon'\n",
    "    elif any(x in value['company'].lower() for x in ['aws','amazon']):\n",
    "        person_dict_1styr[key]['company'] = 'Amazon'\n",
    "    elif \"aiven\" in value['company'].lower():\n",
    "        person_dict_1styr[key]['company'] = 'Aiven'\n",
    "        \n",
    "    # Get descriptive statistics\n",
    "    commits = commits + value['commits']\n",
    "    additions = additions + value['additions']\n",
    "    deletions = deletions + value['deletions']\n",
    "    \n",
    "print(\"People:\", people)\n",
    "print(\"Commits:\", commits)\n",
    "print(\"Additions\", additions)\n",
    "print(\"Deletions\", deletions)"
   ]
  },
  {
   "cell_type": "code",
   "execution_count": 15,
   "id": "9dbb674a",
   "metadata": {},
   "outputs": [
    {
     "name": "stdout",
     "output_type": "stream",
     "text": [
      "Rishikesh1159 {'additions': 321, 'name': 'Rishikesh', 'deletions': 582, 'company': None, 'commits': 7, 'email': ['62345295+Rishikesh1159@users.noreply.github.com']}\n",
      "xuezhou25 {'additions': 116, 'name': 'Xue Zhou', 'deletions': 280, 'company': None, 'commits': 8, 'email': ['85715413+xuezhou25@users.noreply.github.com']}\n",
      "dependabot[bot] {'additions': 2181, 'name': None, 'deletions': 1612, 'company': None, 'commits': 150, 'email': ['49699333+dependabot[bot]@users.noreply.github.com', 'dependabot[bot]@users.noreply.github.com']}\n"
     ]
    }
   ],
   "source": [
    "for key,value in person_dict_1styr.items():\n",
    "    try:\n",
    "        if (value['commits'] > 5) and (value['company'] == None):\n",
    "            print(key,value)\n",
    "    except:\n",
    "        pass"
   ]
  },
  {
   "cell_type": "code",
   "execution_count": 16,
   "id": "9a8ba5fb",
   "metadata": {},
   "outputs": [],
   "source": [
    "# Manual Fixes\n",
    "person_dict_1styr['nknize']['company'] = 'Amazon' # https://www.linkedin.com/in/nknize/\n",
    "person_dict_1styr['Rishikesh1159']['company'] = 'Amazon' # https://www.linkedin.com/in/rishikesh-reddy-pasham-678271164/\n",
    "person_dict_1styr['rishabhmaurya']['company'] = 'Amazon' # https://www.linkedin.com/in/rishabh-maurya/\n",
    "person_dict_1styr['shourya035']['company'] = 'Amazon' # https://www.linkedin.com/in/shourya-dutta-biswas-436a0b132/\n",
    "person_dict_1styr['bowenlan-amzn']['company'] = 'Amazon' # https://www.linkedin.com/in/lanbowen23/\n",
    "person_dict_1styr['harshavamsi']['company'] = 'Amazon' # https://www.linkedin.com/in/harshavamsi/\n",
    "person_dict_1styr['vikasvb90']['company'] = 'Amazon' # https://www.linkedin.com/in/vikasbansal1/\n",
    "person_dict_1styr['mattweber']['company'] = 'Amazon' # https://www.linkedin.com/in/matthew-g-weber/\n",
    "\n",
    "\n",
    "# Remove bots\n",
    "del person_dict_1styr['dependabot[bot]']"
   ]
  },
  {
   "cell_type": "code",
   "execution_count": 17,
   "id": "71da4c06",
   "metadata": {},
   "outputs": [
    {
     "name": "stdout",
     "output_type": "stream",
     "text": [
      "reta {'additions': 15854, 'name': 'Andriy Redko', 'deletions': 2981, 'company': 'Aiven', 'commits': 74, 'email': ['andriy.redko@aiven.io', 'drreta@gmail.com']}\n",
      "adnapibar {'additions': 11141, 'name': 'Rabi Panda', 'deletions': 7818, 'company': 'Microsoft', 'commits': 36, 'email': ['adnapibar@gmail.com']}\n",
      "\n",
      "Amazon / AWS - people with >= 10 commits: \n",
      "* People: 7 0.07526881720430108 % of people\n",
      "* Commits: 246\n",
      "* Additions: 296720 0.8019827938040397 % of total additions\n",
      "* Deletions: 224179 0.9090241874987328 % of total deletions\n",
      "\n",
      "Other - people with >= 10 commits: \n",
      "* People: 2 0.021505376344086023 % of people\n",
      "* Commits: 110\n",
      "* Additions: 26995 0.0729628118048667 % of total additions\n",
      "* Deletions: 10799 0.043788901729416296 % of total deletions\n",
      "\n",
      "Totals in dataset of people with >=10 commits:\n",
      "* 0.8749456056089063 % of total additions\n",
      "* 0.9528130892281491 % of total deletions\n"
     ]
    }
   ],
   "source": [
    "org_people = 0\n",
    "org_commits = 0\n",
    "org_additions = 0\n",
    "org_deletions = 0\n",
    "\n",
    "other_people = 0\n",
    "other_commits = 0\n",
    "other_additions = 0\n",
    "other_deletions = 0\n",
    "\n",
    "for key,value in person_dict_1styr.items():\n",
    "    try:\n",
    "        if value['commits'] >= 10:\n",
    "            if value['company'] == 'Amazon':\n",
    "                org_people += 1\n",
    "                org_commits = org_commits + value['commits']\n",
    "                org_additions = org_additions + value['additions']\n",
    "                org_deletions = org_deletions + value['deletions']\n",
    "            else:\n",
    "                other_people += 1\n",
    "                other_commits = other_commits + value['commits']\n",
    "                other_additions = other_additions + value['additions']\n",
    "                other_deletions = other_deletions + value['deletions']\n",
    "                print(key,value)\n",
    "            i+=1\n",
    "    except:\n",
    "        pass\n",
    "    \n",
    "print(\"\\nAmazon / AWS - people with >= 10 commits:\", \"\\n* People:\", org_people, org_people/people, \"% of people\")\n",
    "print(\"* Commits:\", org_commits)\n",
    "print(\"* Additions:\", org_additions, org_additions/additions, \"% of total additions\")\n",
    "print(\"* Deletions:\", org_deletions, org_deletions/deletions, \"% of total deletions\")\n",
    "\n",
    "print(\"\\nOther - people with >= 10 commits:\", \"\\n* People:\", other_people, other_people/people, \"% of people\")\n",
    "print(\"* Commits:\", other_commits)\n",
    "print(\"* Additions:\", other_additions, other_additions/additions, \"% of total additions\")\n",
    "print(\"* Deletions:\", other_deletions, other_deletions/deletions, \"% of total deletions\")\n",
    "      \n",
    "print(\"\\nTotals in dataset of people with >=10 commits:\")\n",
    "print('*', (other_additions + org_additions)/additions, \"% of total additions\")\n",
    "print('*', (other_deletions + org_deletions)/deletions, \"% of total deletions\")"
   ]
  },
  {
   "cell_type": "code",
   "execution_count": 18,
   "id": "ff527502",
   "metadata": {},
   "outputs": [
    {
     "name": "stdout",
     "output_type": "stream",
     "text": [
      "|Person|Company|Commits|Additions|Deletions|\n",
      "|:---|:---|:---|:---|:---|\n",
      "| reta | Aiven | 74 | 15854 | 2981 |\n",
      "| xuezhou25 | None | 8 | 116 | 280 |\n",
      "| adnapibar | Microsoft | 36 | 11141 | 7818 |\n"
     ]
    }
   ],
   "source": [
    "# Make it easy for the print statements to be copied into a Markdown table\n",
    "print('|Person|Company|Commits|Additions|Deletions|')\n",
    "print('|:---|:---|:---|:---|:---|')\n",
    "\n",
    "for key,value in person_dict_1styr.items():\n",
    "    try:\n",
    "        if (value['commits'] > 5) and (value['company'] != 'Amazon'):\n",
    "            print('|',key,'|',value['company'],'|',value['commits'],'|',value['additions'],'|',value['deletions'],'|')\n",
    "    except:\n",
    "        pass"
   ]
  },
  {
   "cell_type": "markdown",
   "id": "de873511",
   "metadata": {},
   "source": [
    "# Past Year (2023-08-01 to 2024-08-01)"
   ]
  },
  {
   "cell_type": "code",
   "execution_count": 19,
   "id": "5d558916",
   "metadata": {},
   "outputs": [],
   "source": [
    "from pprint import pprint\n",
    "import collections\n",
    "import pandas as pd\n",
    "import pickle\n",
    "\n",
    "# Pickle files generated by this script:\n",
    "# https://github.com/geekygirldawn/project-api-metrics/blob/main/scripts/commits_people.py\n",
    "\n",
    "people_pickle_p1y = '../data-files/OpenSearch_people_2023-08-01T00:00:00.000+00:002024-08-01T00:00:00.000+00:00.pkl'\n",
    "\n",
    "with open(people_pickle_p1y, 'rb') as f:\n",
    "    person_dict_p1y = pickle.load(f)"
   ]
  },
  {
   "cell_type": "code",
   "execution_count": 20,
   "id": "c1623a6f",
   "metadata": {},
   "outputs": [
    {
     "name": "stdout",
     "output_type": "stream",
     "text": [
      "People: 166\n",
      "Commits: 1904\n",
      "Additions 383792\n",
      "Deletions 101163\n"
     ]
    }
   ],
   "source": [
    "people = len(person_dict_p1y)\n",
    "commits = 0\n",
    "additions = 0\n",
    "deletions = 0\n",
    "\n",
    "for key,value in person_dict_p1y.items():\n",
    "    # Normalize company names and use emails to derive Amazon affiliations\n",
    "    if value['company'] == None:\n",
    "        for email in value['email']:\n",
    "            if \"amazon.com\" in email:\n",
    "                person_dict_p1y[key]['company'] = 'Amazon'\n",
    "    elif any(x in value['company'].lower() for x in ['aws','amazon']):\n",
    "        person_dict_p1y[key]['company'] = 'Amazon'\n",
    "    elif \"aiven\" in value['company'].lower():\n",
    "        person_dict_p1y[key]['company'] = 'Aiven'\n",
    "        \n",
    "    # Get descriptive statistics\n",
    "    commits = commits + value['commits']\n",
    "    additions = additions + value['additions']\n",
    "    deletions = deletions + value['deletions']\n",
    "    \n",
    "print(\"People:\", people)\n",
    "print(\"Commits:\", commits)\n",
    "print(\"Additions\", additions)\n",
    "print(\"Deletions\", deletions)"
   ]
  },
  {
   "cell_type": "code",
   "execution_count": 21,
   "id": "583a4cab",
   "metadata": {},
   "outputs": [
    {
     "name": "stdout",
     "output_type": "stream",
     "text": [
      "kkewwei {'company': None, 'name': 'kkewwei', 'commits': 14, 'additions': 1302, 'deletions': 81, 'email': ['kkewwei@163.com', 'kewei.11@bytedance.com']}\n",
      "SwethaGuptha {'company': None, 'name': None, 'commits': 7, 'additions': 942, 'deletions': 256, 'email': ['156877431+SwethaGuptha@users.noreply.github.com']}\n",
      "dependabot[bot] {'company': None, 'name': None, 'commits': 319, 'additions': 1808, 'deletions': 712, 'email': ['49699333+dependabot[bot]@users.noreply.github.com', 'dependabot[bot]@users.noreply.github.com']}\n",
      "opensearch-trigger-bot[bot] {'company': None, 'name': None, 'commits': 9, 'additions': 340, 'deletions': 12, 'email': ['98922864+opensearch-trigger-bot[bot]@users.noreply.github.com', 'opensearch-trigger-bot[bot]@users.noreply.github.com']}\n",
      "shourya035 {'company': None, 'name': 'Shourya Dutta Biswas', 'commits': 21, 'additions': 7908, 'deletions': 1799, 'email': ['114977491+shourya035@users.noreply.github.com']}\n",
      "rajiv-kv {'company': None, 'name': None, 'commits': 8, 'additions': 2320, 'deletions': 139, 'email': ['157019998+rajiv-kv@users.noreply.github.com']}\n",
      "bugmakerrrrrr {'company': None, 'name': 'panguixin', 'commits': 14, 'additions': 1168, 'deletions': 424, 'email': ['panguixin@bytedance.com']}\n",
      "dzane17 {'company': None, 'name': 'David Zane', 'commits': 9, 'additions': 2193, 'deletions': 513, 'email': ['38449481+dzane17@users.noreply.github.com']}\n",
      "rishabhmaurya {'company': None, 'name': 'Rishabh Maurya', 'commits': 18, 'additions': 13740, 'deletions': 980, 'email': ['rishabhmaurya05@gmail.com']}\n",
      "vikasvb90 {'company': None, 'name': 'Vikas Bansal', 'commits': 15, 'additions': 13572, 'deletions': 4128, 'email': ['43470111+vikasvb90@users.noreply.github.com']}\n",
      "Rishikesh1159 {'company': None, 'name': 'Rishikesh', 'commits': 21, 'additions': 4006, 'deletions': 875, 'email': ['62345295+Rishikesh1159@users.noreply.github.com']}\n"
     ]
    }
   ],
   "source": [
    "for key,value in person_dict_p1y.items():\n",
    "    try:\n",
    "        if (value['commits'] > 5) and (value['company'] == None):\n",
    "            print(key,value)\n",
    "    except:\n",
    "        pass"
   ]
  },
  {
   "cell_type": "code",
   "execution_count": 22,
   "id": "2291863c",
   "metadata": {},
   "outputs": [],
   "source": [
    "# Manual Fixes\n",
    "person_dict_p1y['nknize']['company'] = 'Amazon' # https://www.linkedin.com/in/nknize/\n",
    "person_dict_p1y['Rishikesh1159']['company'] = 'Amazon' # https://www.linkedin.com/in/rishikesh-reddy-pasham-678271164/\n",
    "person_dict_p1y['rishabhmaurya']['company'] = 'Amazon' # https://www.linkedin.com/in/rishabh-maurya/\n",
    "person_dict_p1y['shourya035']['company'] = 'Amazon' # https://www.linkedin.com/in/shourya-dutta-biswas-436a0b132/\n",
    "person_dict_p1y['bowenlan-amzn']['company'] = 'Amazon' # https://www.linkedin.com/in/lanbowen23/\n",
    "person_dict_p1y['harshavamsi']['company'] = 'Amazon' # https://www.linkedin.com/in/harshavamsi/\n",
    "person_dict_p1y['vikasvb90']['company'] = 'Amazon' # https://www.linkedin.com/in/vikasbansal1/\n",
    "person_dict_p1y['mattweber']['company'] = 'Amazon' # https://www.linkedin.com/in/matthew-g-weber/\n",
    "\n",
    "\n",
    "# Remove bots\n",
    "del person_dict_p1y['dependabot[bot]']\n",
    "del person_dict_p1y['opensearch-trigger-bot[bot]']\n",
    "del person_dict_p1y['opensearch-ci-bot']"
   ]
  },
  {
   "cell_type": "code",
   "execution_count": 23,
   "id": "3042ce66",
   "metadata": {},
   "outputs": [
    {
     "name": "stdout",
     "output_type": "stream",
     "text": [
      "reta {'company': 'Aiven', 'name': 'Andriy Redko', 'commits': 187, 'additions': 41988, 'deletions': 15552, 'email': ['andriy.redko@aiven.io', 'drreta@gmail.com']}\n",
      "kkewwei {'company': None, 'name': 'kkewwei', 'commits': 14, 'additions': 1302, 'deletions': 81, 'email': ['kkewwei@163.com', 'kewei.11@bytedance.com']}\n",
      "bugmakerrrrrr {'company': None, 'name': 'panguixin', 'commits': 14, 'additions': 1168, 'deletions': 424, 'email': ['panguixin@bytedance.com']}\n",
      "\n",
      "Amazon / AWS - people with >= 10 commits: \n",
      "* People: 43 0.25903614457831325 % of people\n",
      "* Commits: 979\n",
      "* Additions: 244896 0.6380956351356986 % of total additions\n",
      "* Deletions: 67572 0.6679517214791969 % of total deletions\n",
      "\n",
      "Other - people with >= 10 commits: \n",
      "* People: 3 0.018072289156626505 % of people\n",
      "* Commits: 215\n",
      "* Additions: 44458 0.11583878767665819 % of total additions\n",
      "* Deletions: 16057 0.15872403942152763 % of total deletions\n",
      "\n",
      "Totals in dataset of people with >=10 commits:\n",
      "* 0.7539344228123567 % of total additions\n",
      "* 0.8266757609007246 % of total deletions\n"
     ]
    }
   ],
   "source": [
    "org_people = 0\n",
    "org_commits = 0\n",
    "org_additions = 0\n",
    "org_deletions = 0\n",
    "\n",
    "other_people = 0\n",
    "other_commits = 0\n",
    "other_additions = 0\n",
    "other_deletions = 0\n",
    "\n",
    "for key,value in person_dict_p1y.items():\n",
    "    try:\n",
    "        if value['commits'] >= 10:\n",
    "            if value['company'] == 'Amazon':\n",
    "                org_people += 1\n",
    "                org_commits = org_commits + value['commits']\n",
    "                org_additions = org_additions + value['additions']\n",
    "                org_deletions = org_deletions + value['deletions']\n",
    "            else:\n",
    "                other_people += 1\n",
    "                other_commits = other_commits + value['commits']\n",
    "                other_additions = other_additions + value['additions']\n",
    "                other_deletions = other_deletions + value['deletions']\n",
    "                print(key,value)\n",
    "            i+=1\n",
    "    except:\n",
    "        pass\n",
    "    \n",
    "print(\"\\nAmazon / AWS - people with >= 10 commits:\", \"\\n* People:\", org_people, org_people/people, \"% of people\")\n",
    "print(\"* Commits:\", org_commits)\n",
    "print(\"* Additions:\", org_additions, org_additions/additions, \"% of total additions\")\n",
    "print(\"* Deletions:\", org_deletions, org_deletions/deletions, \"% of total deletions\")\n",
    "\n",
    "print(\"\\nOther - people with >= 10 commits:\", \"\\n* People:\", other_people, other_people/people, \"% of people\")\n",
    "print(\"* Commits:\", other_commits)\n",
    "print(\"* Additions:\", other_additions, other_additions/additions, \"% of total additions\")\n",
    "print(\"* Deletions:\", other_deletions, other_deletions/deletions, \"% of total deletions\")\n",
    "      \n",
    "print(\"\\nTotals in dataset of people with >=10 commits:\")\n",
    "print('*', (other_additions + org_additions)/additions, \"% of total additions\")\n",
    "print('*', (other_deletions + org_deletions)/deletions, \"% of total deletions\")"
   ]
  },
  {
   "cell_type": "code",
   "execution_count": 24,
   "id": "d23f9de4",
   "metadata": {},
   "outputs": [
    {
     "name": "stdout",
     "output_type": "stream",
     "text": [
      "|Person|Company|Commits|Additions|Deletions|\n",
      "|:---|:---|:---|:---|:---|\n",
      "| reta | Aiven | 187 | 41988 | 15552 |\n",
      "| lukas-vlcek | Aiven | 8 | 486 | 61 |\n",
      "| kkewwei | None | 14 | 1302 | 81 |\n",
      "| SwethaGuptha | None | 7 | 942 | 256 |\n",
      "| skumawat2025 | IIT Kharagpur | 8 | 2615 | 523 |\n",
      "| rajiv-kv | None | 8 | 2320 | 139 |\n",
      "| bugmakerrrrrr | None | 14 | 1168 | 424 |\n",
      "| dzane17 | None | 9 | 2193 | 513 |\n",
      "| akolarkunnu | NetApp | 6 | 48 | 63 |\n",
      "| ketanv3 | @google | 9 | 2734 | 2328 |\n"
     ]
    }
   ],
   "source": [
    "# Make it easy for the print statements to be copied into a Markdown table\n",
    "print('|Person|Company|Commits|Additions|Deletions|')\n",
    "print('|:---|:---|:---|:---|:---|')\n",
    "\n",
    "for key,value in person_dict_p1y.items():\n",
    "    try:\n",
    "        if (value['commits'] > 5) and (value['company'] != 'Amazon'):\n",
    "            print('|',key,'|',value['company'],'|',value['commits'],'|',value['additions'],'|',value['deletions'],'|')\n",
    "    except:\n",
    "        pass"
   ]
  }
 ],
 "metadata": {
  "kernelspec": {
   "display_name": "Python 3",
   "language": "python",
   "name": "python3"
  },
  "language_info": {
   "codemirror_mode": {
    "name": "ipython",
    "version": 3
   },
   "file_extension": ".py",
   "mimetype": "text/x-python",
   "name": "python",
   "nbconvert_exporter": "python",
   "pygments_lexer": "ipython3",
   "version": "3.11.10"
  }
 },
 "nbformat": 4,
 "nbformat_minor": 5
}
