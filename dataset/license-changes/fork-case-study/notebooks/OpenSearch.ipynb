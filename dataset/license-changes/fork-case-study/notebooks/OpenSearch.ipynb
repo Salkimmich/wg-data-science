{
 "cells": [
  {
   "cell_type": "markdown",
   "id": "dfaab410",
   "metadata": {},
   "source": [
    "## Summary\n",
    "\n",
    "### tl;dr\n",
    "\n",
    "Notes:\n",
    "* OpenSearch was forked from Elasticsearch on 2021-04-12 and was an Amazon AWS Project until it moved into the Linux Foundation on 2024-09-16.\n",
    "* Caveat: This is purely a summary of the data that has not been validated from anyone within the community\n",
    "* Analysis of contributions to one repo: https://github.com/opensearch-project/OpenSearch\n",
    "\n",
    "While Amazon / AWS have always been the dominant contributor to OpenSearch, the organizational diversity has been gradually improving:\n",
    "* In the first year of the fork, Amazon / AWS made 80% of the additions and 90% of the deletions within the https://github.com/opensearch-project/OpenSearch repo with only 3 external people making more than 5 commits.\n",
    "* In the past year, Amazon employees made 64% of the additions and 67% of the deletions with 10 people making more than 5 commits. However, most of this was due to one individual from Aiven who made 41988 additions and 15552 deletions.\n",
    "\n",
    "### After the Fork , Before the LF (2021-04-12 - 2024-09-16)\n",
    "\n",
    "Amazon / AWS - people with >= 10 commits: \n",
    "* People: 64 0.20711974110032363 % of people\n",
    "* Commits: 2638\n",
    "* Additions: 891163 0.6987496942059076 % of total additions\n",
    "* Deletions: 394616 0.8271987691043515 % of total deletions\n",
    "\n",
    "Other - people with >= 10 commits: \n",
    "* People: 10 0.032362459546925564 % of people\n",
    "* Commits: 631\n",
    "* Additions: 129341 0.10141465051655679 % of total additions\n",
    "* Deletions: 45417 0.0952036574705849 % of total deletions\n",
    "\n",
    "Totals in dataset of people with >=10 commits:\n",
    "* 0.8001643447224644 % of total additions\n",
    "* 0.9224024265749364 % of total deletions\n",
    "\n",
    "### First Year After the Fork (2021-04-12 to 2022-04-12)\n",
    "\n",
    "Amazon / AWS - people with >= 10 commits: \n",
    "* People: 7 0.07526881720430108 % of people\n",
    "* Commits: 246\n",
    "* Additions: 296720 0.8019827938040397 % of total additions\n",
    "* Deletions: 224179 0.9090241874987328 % of total deletions\n",
    "\n",
    "Other - people with >= 10 commits: \n",
    "* People: 2 0.021505376344086023 % of people\n",
    "* Commits: 110\n",
    "* Additions: 26995 0.0729628118048667 % of total additions\n",
    "* Deletions: 10799 0.043788901729416296 % of total deletions\n",
    "\n",
    "Totals in dataset of people with >=10 commits:\n",
    "* 0.8749456056089063 % of total additions\n",
    "* 0.9528130892281491 % of total deletions\n",
    "\n",
    "|Person|Company|Commits|Additions|Deletions|\n",
    "|:---|:---|:---|:---|:---|\n",
    "| reta | Aiven | 74 | 15854 | 2981 |\n",
    "| xuezhou25 | None | 8 | 116 | 280 |\n",
    "| adnapibar | Microsoft | 36 | 11141 | 7818 |\n",
    "\n",
    "### Final Year under AWS before LF (2023-09-16 to 2024-09-16)\n",
    "\n",
    "Amazon / AWS - people with >= 10 commits: \n",
    "* People: 40 0.23952095808383234 % of people\n",
    "* Commits: 923\n",
    "* Additions: 237781 0.6328187167497452 % of total additions\n",
    "* Deletions: 48894 0.6460879791746501 % of total deletions\n",
    "\n",
    "Other - people with >= 10 commits: \n",
    "* People: 6 0.03592814371257485 % of people\n",
    "* Commits: 242\n",
    "* Additions: 42863 0.11407349054821171 % of total additions\n",
    "* Deletions: 9936 0.1312948451973519 % of total deletions\n",
    "\n",
    "Totals in dataset of people with >=10 commits:\n",
    "* 0.7468922072979569 % of total additions\n",
    "* 0.777382824372002 % of total deletions\n",
    "\n",
    "|Person|Company|Commits|Additions|Deletions|\n",
    "|:---|:---|:---|:---|:---|\n",
    "| skumawat2025 | IIT Kharagpur | 8 | 2615 | 523 |\n",
    "| Pranshu-S | None | 6 | 2342 | 89 |\n",
    "| reta | Aiven | 182 | 31718 | 8175 |\n",
    "| dzane17 | None | 11 | 2502 | 530 |\n",
    "| rajiv-kv | None | 11 | 3410 | 186 |\n",
    "| SwethaGuptha | None | 11 | 1792 | 523 |\n",
    "| lukas-vlcek | Aiven | 9 | 497 | 69 |\n",
    "| kkewwei | None | 16 | 2412 | 118 |\n",
    "| HUSTERGS | @ByteDance | 6 | 260 | 48 |\n",
    "| akolarkunnu | NetApp | 6 | 48 | 63 |\n",
    "| gargharsh3134 | None | 8 | 996 | 222 |\n",
    "| bugmakerrrrrr | None | 11 | 1029 | 404 |\n",
    "\n",
    "### Additional Notes\n",
    "\n",
    "Nick Knize (nknize) left Elastic and joined Amazon well before the 2021-02-03 Elastic relicensing, but was instrumental in creating the OpenSearch fork. Stopped committing in Aug 2023 before he left Amazon, so all of his commits can be attributed to Amazon.\n",
    "* Amazon: Nov 2020 - Mar 2024\n",
    "* Elastic: Nov 2014 - Nov 2020"
   ]
  },
  {
   "cell_type": "markdown",
   "id": "0b204098",
   "metadata": {},
   "source": [
    "# After the Fork, Before the LF (2021-04-12 - 2024-09-16)"
   ]
  },
  {
   "cell_type": "code",
   "execution_count": 2,
   "id": "f4c7d128",
   "metadata": {},
   "outputs": [],
   "source": [
    "from pprint import pprint\n",
    "import collections\n",
    "import pandas as pd\n",
    "import pickle\n",
    "\n",
    "# Pickle files generated by this script:\n",
    "# https://github.com/geekygirldawn/project-api-metrics/blob/main/scripts/commits_people.py\n",
    "\n",
    "people_pickle = '../data-files/OpenSearch_people_2021-04-12T00:00:00.000+00:002024-09-16T00:00:00.000+00:00.pkl'\n",
    "\n",
    "with open(people_pickle, 'rb') as f:\n",
    "    person_dict = pickle.load(f)"
   ]
  },
  {
   "cell_type": "code",
   "execution_count": 3,
   "id": "793b2ab6",
   "metadata": {},
   "outputs": [
    {
     "name": "stdout",
     "output_type": "stream",
     "text": [
      "People: 309\n",
      "Commits: 4838\n",
      "Additions 1275368\n",
      "Deletions 477051\n"
     ]
    }
   ],
   "source": [
    "people = len(person_dict)\n",
    "commits = 0\n",
    "additions = 0\n",
    "deletions = 0\n",
    "\n",
    "for key,value in person_dict.items():\n",
    "    # Normalize company names and use emails to derive Amazon affiliations\n",
    "    if value['company'] == None:\n",
    "        for email in value['email']:\n",
    "            if \"amazon.com\" in email:\n",
    "                person_dict[key]['company'] = 'Amazon'\n",
    "    elif any(x in value['company'].lower() for x in ['aws','amazon']):\n",
    "        person_dict[key]['company'] = 'Amazon'\n",
    "    elif \"aiven\" in value['company'].lower():\n",
    "        person_dict[key]['company'] = 'Aiven'\n",
    "        \n",
    "    # Get descriptive statistics\n",
    "    commits = commits + value['commits']\n",
    "    additions = additions + value['additions']\n",
    "    deletions = deletions + value['deletions']\n",
    "    \n",
    "print(\"People:\", people)\n",
    "print(\"Commits:\", commits)\n",
    "print(\"Additions\", additions)\n",
    "print(\"Deletions\", deletions)"
   ]
  },
  {
   "cell_type": "code",
   "execution_count": 4,
   "id": "159181fa",
   "metadata": {},
   "outputs": [
    {
     "name": "stdout",
     "output_type": "stream",
     "text": [
      "rajiv-kv {'name': None, 'deletions': 186, 'company': None, 'additions': 3410, 'email': ['157019998+rajiv-kv@users.noreply.github.com'], 'commits': 11}\n",
      "Rishikesh1159 {'name': 'Rishikesh', 'deletions': 2644, 'company': None, 'additions': 9336, 'email': ['62345295+Rishikesh1159@users.noreply.github.com', 'rishireddy1159@gmail.com'], 'commits': 76}\n",
      "SwethaGuptha {'name': None, 'deletions': 523, 'company': None, 'additions': 1792, 'email': ['156877431+SwethaGuptha@users.noreply.github.com'], 'commits': 11}\n",
      "kkewwei {'name': 'kkewwei', 'deletions': 118, 'company': None, 'additions': 2412, 'email': ['kewei.11@bytedance.com', 'kkewwei@163.com'], 'commits': 16}\n",
      "shourya035 {'name': 'Shourya Dutta Biswas', 'deletions': 1801, 'company': None, 'additions': 7995, 'email': ['114977491+shourya035@users.noreply.github.com'], 'commits': 22}\n",
      "dependabot[bot] {'name': None, 'deletions': 6780, 'company': None, 'additions': 8263, 'email': ['49699333+dependabot[bot]@users.noreply.github.com', 'dependabot[bot]@users.noreply.github.com'], 'commits': 901}\n",
      "dzane17 {'name': 'David Zane', 'deletions': 543, 'company': None, 'additions': 2724, 'email': ['38449481+dzane17@users.noreply.github.com'], 'commits': 12}\n",
      "rishabhmaurya {'name': 'Rishabh Maurya', 'deletions': 980, 'company': None, 'additions': 13740, 'email': ['rishabhmaurya05@gmail.com'], 'commits': 18}\n",
      "bugmakerrrrrr {'name': 'panguixin', 'deletions': 424, 'company': None, 'additions': 1168, 'email': ['panguixin@bytedance.com'], 'commits': 14}\n",
      "opensearch-trigger-bot[bot] {'name': None, 'deletions': 62, 'company': None, 'additions': 434, 'email': ['98922864+opensearch-trigger-bot[bot]@users.noreply.github.com', 'opensearch-trigger-bot[bot]@users.noreply.github.com'], 'commits': 27}\n",
      "gargharsh3134 {'name': None, 'deletions': 222, 'company': None, 'additions': 996, 'email': ['51459091+gargharsh3134@users.noreply.github.com'], 'commits': 8}\n",
      "Pranshu-S {'name': 'Pranshu Shukla', 'deletions': 89, 'company': None, 'additions': 2342, 'email': ['55992439+Pranshu-S@users.noreply.github.com'], 'commits': 6}\n"
     ]
    }
   ],
   "source": [
    "for key,value in person_dict.items():\n",
    "    try:\n",
    "        if (value['commits'] > 5) and (value['company'] == None):\n",
    "            print(key,value)\n",
    "    except:\n",
    "        pass"
   ]
  },
  {
   "cell_type": "code",
   "execution_count": 5,
   "id": "7b908262",
   "metadata": {},
   "outputs": [],
   "source": [
    "# Manual Fixes\n",
    "person_dict['nknize']['company'] = 'Amazon' # https://www.linkedin.com/in/nknize/\n",
    "person_dict['Rishikesh1159']['company'] = 'Amazon' # https://www.linkedin.com/in/rishikesh-reddy-pasham-678271164/\n",
    "person_dict['rishabhmaurya']['company'] = 'Amazon' # https://www.linkedin.com/in/rishabh-maurya/\n",
    "person_dict['shourya035']['company'] = 'Amazon' # https://www.linkedin.com/in/shourya-dutta-biswas-436a0b132/\n",
    "person_dict['bowenlan-amzn']['company'] = 'Amazon' # https://www.linkedin.com/in/lanbowen23/\n",
    "person_dict['harshavamsi']['company'] = 'Amazon' # https://www.linkedin.com/in/harshavamsi/\n",
    "person_dict['vikasvb90']['company'] = 'Amazon' # https://www.linkedin.com/in/vikasbansal1/\n",
    "person_dict['mattweber']['company'] = 'Amazon' # https://www.linkedin.com/in/matthew-g-weber/\n",
    "\n",
    "\n",
    "# Remove bots\n",
    "del person_dict['dependabot[bot]']\n",
    "del person_dict['opensearch-trigger-bot[bot]']\n",
    "del person_dict['opensearch-ci-bot']"
   ]
  },
  {
   "cell_type": "code",
   "execution_count": 6,
   "id": "f7b9b4ce",
   "metadata": {},
   "outputs": [
    {
     "name": "stdout",
     "output_type": "stream",
     "text": [
      "reta {'name': 'Andriy Redko', 'deletions': 29059, 'company': 'Aiven', 'additions': 90299, 'email': ['andriy.redko@aiven.io', 'reta@users.noreply.github.com', 'drreta@gmail.com'], 'commits': 459}\n",
      "rajiv-kv {'name': None, 'deletions': 186, 'company': None, 'additions': 3410, 'email': ['157019998+rajiv-kv@users.noreply.github.com'], 'commits': 11}\n",
      "SwethaGuptha {'name': None, 'deletions': 523, 'company': None, 'additions': 1792, 'email': ['156877431+SwethaGuptha@users.noreply.github.com'], 'commits': 11}\n",
      "kkewwei {'name': 'kkewwei', 'deletions': 118, 'company': None, 'additions': 2412, 'email': ['kewei.11@bytedance.com', 'kkewwei@163.com'], 'commits': 16}\n",
      "adnapibar {'name': 'Rabi Panda', 'deletions': 10739, 'company': 'Microsoft', 'additions': 12976, 'email': ['adnapibar@gmail.com'], 'commits': 64}\n",
      "lukas-vlcek {'name': 'Lukáš Vlček', 'deletions': 334, 'company': 'Aiven', 'additions': 3518, 'email': ['lukas.vlcek@aiven.io'], 'commits': 17}\n",
      "willyborankin {'name': 'Andrey Pleskach', 'deletions': 682, 'company': 'Aiven', 'additions': 1826, 'email': ['ples@aiven.io'], 'commits': 10}\n",
      "dzane17 {'name': 'David Zane', 'deletions': 543, 'company': None, 'additions': 2724, 'email': ['38449481+dzane17@users.noreply.github.com'], 'commits': 12}\n",
      "ketanv3 {'name': 'Ketan Verma', 'deletions': 2809, 'company': '@google', 'additions': 9216, 'email': ['9292653+ketanv3@users.noreply.github.com', 'ketanv3@users.noreply.github.com'], 'commits': 17}\n",
      "bugmakerrrrrr {'name': 'panguixin', 'deletions': 424, 'company': None, 'additions': 1168, 'email': ['panguixin@bytedance.com'], 'commits': 14}\n",
      "\n",
      "Amazon / AWS - people with >= 10 commits: \n",
      "* People: 64 0.20711974110032363 % of people\n",
      "* Commits: 2638\n",
      "* Additions: 891163 0.6987496942059076 % of total additions\n",
      "* Deletions: 394616 0.8271987691043515 % of total deletions\n",
      "\n",
      "Other - people with >= 10 commits: \n",
      "* People: 10 0.032362459546925564 % of people\n",
      "* Commits: 631\n",
      "* Additions: 129341 0.10141465051655679 % of total additions\n",
      "* Deletions: 45417 0.0952036574705849 % of total deletions\n",
      "\n",
      "Totals in dataset of people with >=10 commits:\n",
      "* 0.8001643447224644 % of total additions\n",
      "* 0.9224024265749364 % of total deletions\n"
     ]
    }
   ],
   "source": [
    "org_people = 0\n",
    "org_commits = 0\n",
    "org_additions = 0\n",
    "org_deletions = 0\n",
    "\n",
    "other_people = 0\n",
    "other_commits = 0\n",
    "other_additions = 0\n",
    "other_deletions = 0\n",
    "\n",
    "for key,value in person_dict.items():\n",
    "    try:\n",
    "        if value['commits'] >= 10:\n",
    "            if value['company'] == 'Amazon':\n",
    "                org_people += 1\n",
    "                org_commits = org_commits + value['commits']\n",
    "                org_additions = org_additions + value['additions']\n",
    "                org_deletions = org_deletions + value['deletions']\n",
    "            else:\n",
    "                other_people += 1\n",
    "                other_commits = other_commits + value['commits']\n",
    "                other_additions = other_additions + value['additions']\n",
    "                other_deletions = other_deletions + value['deletions']\n",
    "                print(key,value)\n",
    "            i+=1\n",
    "    except:\n",
    "        pass\n",
    "    \n",
    "print(\"\\nAmazon / AWS - people with >= 10 commits:\", \"\\n* People:\", org_people, org_people/people, \"% of people\")\n",
    "print(\"* Commits:\", org_commits)\n",
    "print(\"* Additions:\", org_additions, org_additions/additions, \"% of total additions\")\n",
    "print(\"* Deletions:\", org_deletions, org_deletions/deletions, \"% of total deletions\")\n",
    "\n",
    "print(\"\\nOther - people with >= 10 commits:\", \"\\n* People:\", other_people, other_people/people, \"% of people\")\n",
    "print(\"* Commits:\", other_commits)\n",
    "print(\"* Additions:\", other_additions, other_additions/additions, \"% of total additions\")\n",
    "print(\"* Deletions:\", other_deletions, other_deletions/deletions, \"% of total deletions\")\n",
    "      \n",
    "print(\"\\nTotals in dataset of people with >=10 commits:\")\n",
    "print('*', (other_additions + org_additions)/additions, \"% of total additions\")\n",
    "print('*', (other_deletions + org_deletions)/deletions, \"% of total deletions\")"
   ]
  },
  {
   "cell_type": "code",
   "execution_count": 7,
   "id": "2272185a",
   "metadata": {},
   "outputs": [
    {
     "name": "stdout",
     "output_type": "stream",
     "text": [
      "|Person|Company|Commits|Additions|Deletions|\n",
      "|:---|:---|:---|:---|:---|\n",
      "| austintlee | Aryn | 8 | 1439 | 78 |\n",
      "| reta | Aiven | 459 | 90299 | 29059 |\n",
      "| akolarkunnu | NetApp | 6 | 48 | 63 |\n",
      "| skumawat2025 | IIT Kharagpur | 8 | 2615 | 523 |\n",
      "| rajiv-kv | None | 11 | 3410 | 186 |\n",
      "| SwethaGuptha | None | 11 | 1792 | 523 |\n",
      "| kkewwei | None | 16 | 2412 | 118 |\n",
      "| adnapibar | Microsoft | 64 | 12976 | 10739 |\n",
      "| rursprung | avaloq | 6 | 202 | 363 |\n",
      "| lukas-vlcek | Aiven | 17 | 3518 | 334 |\n",
      "| willyborankin | Aiven | 10 | 1826 | 682 |\n",
      "| dzane17 | None | 12 | 2724 | 543 |\n",
      "| HUSTERGS | @ByteDance | 6 | 260 | 48 |\n",
      "| ketanv3 | @google | 17 | 9216 | 2809 |\n",
      "| mohit0193 | Salesforce | 6 | 11202 | 720 |\n",
      "| bugmakerrrrrr | None | 14 | 1168 | 424 |\n",
      "| gargharsh3134 | None | 8 | 996 | 222 |\n",
      "| Pranshu-S | None | 6 | 2342 | 89 |\n"
     ]
    }
   ],
   "source": [
    "# Make it easy for the print statements to be copied into a Markdown table\n",
    "print('|Person|Company|Commits|Additions|Deletions|')\n",
    "print('|:---|:---|:---|:---|:---|')\n",
    "\n",
    "for key,value in person_dict.items():\n",
    "    try:\n",
    "        if (value['commits'] > 5) and (value['company'] != 'Amazon'):\n",
    "            print('|',key,'|',value['company'],'|',value['commits'],'|',value['additions'],'|',value['deletions'],'|')\n",
    "    except:\n",
    "        pass"
   ]
  },
  {
   "cell_type": "markdown",
   "id": "99e113ff",
   "metadata": {},
   "source": [
    "# First Year After the Fork (2021-04-12 to 2022-04-12)"
   ]
  },
  {
   "cell_type": "code",
   "execution_count": 8,
   "id": "8ad68128",
   "metadata": {},
   "outputs": [],
   "source": [
    "from pprint import pprint\n",
    "import collections\n",
    "import pandas as pd\n",
    "import pickle\n",
    "\n",
    "# Pickle files generated by this script:\n",
    "# https://github.com/geekygirldawn/project-api-metrics/blob/main/scripts/commits_people.py\n",
    "\n",
    "people_pickle_1styr = '../data-files/OpenSearch_people_2021-04-12T00:00:00.000+00:002022-04-12T00:00:00.000+00:00.pkl'\n",
    "\n",
    "with open(people_pickle_1styr, 'rb') as f:\n",
    "    person_dict_1styr = pickle.load(f)"
   ]
  },
  {
   "cell_type": "code",
   "execution_count": 9,
   "id": "809c4d6f",
   "metadata": {},
   "outputs": [
    {
     "name": "stdout",
     "output_type": "stream",
     "text": [
      "People: 93\n",
      "Commits: 716\n",
      "Additions 369983\n",
      "Deletions 246615\n"
     ]
    }
   ],
   "source": [
    "people = len(person_dict_1styr)\n",
    "commits = 0\n",
    "additions = 0\n",
    "deletions = 0\n",
    "\n",
    "for key,value in person_dict_1styr.items():\n",
    "    # Normalize company names and use emails to derive Amazon affiliations\n",
    "    if value['company'] == None:\n",
    "        for email in value['email']:\n",
    "            if \"amazon.com\" in email:\n",
    "                person_dict_1styr[key]['company'] = 'Amazon'\n",
    "    elif any(x in value['company'].lower() for x in ['aws','amazon']):\n",
    "        person_dict_1styr[key]['company'] = 'Amazon'\n",
    "    elif \"aiven\" in value['company'].lower():\n",
    "        person_dict_1styr[key]['company'] = 'Aiven'\n",
    "        \n",
    "    # Get descriptive statistics\n",
    "    commits = commits + value['commits']\n",
    "    additions = additions + value['additions']\n",
    "    deletions = deletions + value['deletions']\n",
    "    \n",
    "print(\"People:\", people)\n",
    "print(\"Commits:\", commits)\n",
    "print(\"Additions\", additions)\n",
    "print(\"Deletions\", deletions)"
   ]
  },
  {
   "cell_type": "code",
   "execution_count": 10,
   "id": "7710cea7",
   "metadata": {},
   "outputs": [
    {
     "name": "stdout",
     "output_type": "stream",
     "text": [
      "Rishikesh1159 {'additions': 321, 'name': 'Rishikesh', 'deletions': 582, 'company': None, 'commits': 7, 'email': ['62345295+Rishikesh1159@users.noreply.github.com']}\n",
      "xuezhou25 {'additions': 116, 'name': 'Xue Zhou', 'deletions': 280, 'company': None, 'commits': 8, 'email': ['85715413+xuezhou25@users.noreply.github.com']}\n",
      "dependabot[bot] {'additions': 2181, 'name': None, 'deletions': 1612, 'company': None, 'commits': 150, 'email': ['49699333+dependabot[bot]@users.noreply.github.com', 'dependabot[bot]@users.noreply.github.com']}\n"
     ]
    }
   ],
   "source": [
    "for key,value in person_dict_1styr.items():\n",
    "    try:\n",
    "        if (value['commits'] > 5) and (value['company'] == None):\n",
    "            print(key,value)\n",
    "    except:\n",
    "        pass"
   ]
  },
  {
   "cell_type": "code",
   "execution_count": 11,
   "id": "ac61f55c",
   "metadata": {},
   "outputs": [],
   "source": [
    "# Manual Fixes\n",
    "person_dict_1styr['nknize']['company'] = 'Amazon' # https://www.linkedin.com/in/nknize/\n",
    "person_dict_1styr['Rishikesh1159']['company'] = 'Amazon' # https://www.linkedin.com/in/rishikesh-reddy-pasham-678271164/\n",
    "person_dict_1styr['rishabhmaurya']['company'] = 'Amazon' # https://www.linkedin.com/in/rishabh-maurya/\n",
    "person_dict_1styr['shourya035']['company'] = 'Amazon' # https://www.linkedin.com/in/shourya-dutta-biswas-436a0b132/\n",
    "person_dict_1styr['bowenlan-amzn']['company'] = 'Amazon' # https://www.linkedin.com/in/lanbowen23/\n",
    "person_dict_1styr['harshavamsi']['company'] = 'Amazon' # https://www.linkedin.com/in/harshavamsi/\n",
    "person_dict_1styr['vikasvb90']['company'] = 'Amazon' # https://www.linkedin.com/in/vikasbansal1/\n",
    "person_dict_1styr['mattweber']['company'] = 'Amazon' # https://www.linkedin.com/in/matthew-g-weber/\n",
    "\n",
    "\n",
    "# Remove bots\n",
    "del person_dict_1styr['dependabot[bot]']"
   ]
  },
  {
   "cell_type": "code",
   "execution_count": 12,
   "id": "ab22b291",
   "metadata": {},
   "outputs": [
    {
     "name": "stdout",
     "output_type": "stream",
     "text": [
      "reta {'additions': 15854, 'name': 'Andriy Redko', 'deletions': 2981, 'company': 'Aiven', 'commits': 74, 'email': ['andriy.redko@aiven.io', 'drreta@gmail.com']}\n",
      "adnapibar {'additions': 11141, 'name': 'Rabi Panda', 'deletions': 7818, 'company': 'Microsoft', 'commits': 36, 'email': ['adnapibar@gmail.com']}\n",
      "\n",
      "Amazon / AWS - people with >= 10 commits: \n",
      "* People: 7 0.07526881720430108 % of people\n",
      "* Commits: 246\n",
      "* Additions: 296720 0.8019827938040397 % of total additions\n",
      "* Deletions: 224179 0.9090241874987328 % of total deletions\n",
      "\n",
      "Other - people with >= 10 commits: \n",
      "* People: 2 0.021505376344086023 % of people\n",
      "* Commits: 110\n",
      "* Additions: 26995 0.0729628118048667 % of total additions\n",
      "* Deletions: 10799 0.043788901729416296 % of total deletions\n",
      "\n",
      "Totals in dataset of people with >=10 commits:\n",
      "* 0.8749456056089063 % of total additions\n",
      "* 0.9528130892281491 % of total deletions\n"
     ]
    }
   ],
   "source": [
    "org_people = 0\n",
    "org_commits = 0\n",
    "org_additions = 0\n",
    "org_deletions = 0\n",
    "\n",
    "other_people = 0\n",
    "other_commits = 0\n",
    "other_additions = 0\n",
    "other_deletions = 0\n",
    "\n",
    "for key,value in person_dict_1styr.items():\n",
    "    try:\n",
    "        if value['commits'] >= 10:\n",
    "            if value['company'] == 'Amazon':\n",
    "                org_people += 1\n",
    "                org_commits = org_commits + value['commits']\n",
    "                org_additions = org_additions + value['additions']\n",
    "                org_deletions = org_deletions + value['deletions']\n",
    "            else:\n",
    "                other_people += 1\n",
    "                other_commits = other_commits + value['commits']\n",
    "                other_additions = other_additions + value['additions']\n",
    "                other_deletions = other_deletions + value['deletions']\n",
    "                print(key,value)\n",
    "            i+=1\n",
    "    except:\n",
    "        pass\n",
    "    \n",
    "print(\"\\nAmazon / AWS - people with >= 10 commits:\", \"\\n* People:\", org_people, org_people/people, \"% of people\")\n",
    "print(\"* Commits:\", org_commits)\n",
    "print(\"* Additions:\", org_additions, org_additions/additions, \"% of total additions\")\n",
    "print(\"* Deletions:\", org_deletions, org_deletions/deletions, \"% of total deletions\")\n",
    "\n",
    "print(\"\\nOther - people with >= 10 commits:\", \"\\n* People:\", other_people, other_people/people, \"% of people\")\n",
    "print(\"* Commits:\", other_commits)\n",
    "print(\"* Additions:\", other_additions, other_additions/additions, \"% of total additions\")\n",
    "print(\"* Deletions:\", other_deletions, other_deletions/deletions, \"% of total deletions\")\n",
    "      \n",
    "print(\"\\nTotals in dataset of people with >=10 commits:\")\n",
    "print('*', (other_additions + org_additions)/additions, \"% of total additions\")\n",
    "print('*', (other_deletions + org_deletions)/deletions, \"% of total deletions\")"
   ]
  },
  {
   "cell_type": "code",
   "execution_count": 13,
   "id": "c82f42c5",
   "metadata": {},
   "outputs": [
    {
     "name": "stdout",
     "output_type": "stream",
     "text": [
      "|Person|Company|Commits|Additions|Deletions|\n",
      "|:---|:---|:---|:---|:---|\n",
      "| reta | Aiven | 74 | 15854 | 2981 |\n",
      "| xuezhou25 | None | 8 | 116 | 280 |\n",
      "| adnapibar | Microsoft | 36 | 11141 | 7818 |\n"
     ]
    }
   ],
   "source": [
    "# Make it easy for the print statements to be copied into a Markdown table\n",
    "print('|Person|Company|Commits|Additions|Deletions|')\n",
    "print('|:---|:---|:---|:---|:---|')\n",
    "\n",
    "for key,value in person_dict_1styr.items():\n",
    "    try:\n",
    "        if (value['commits'] > 5) and (value['company'] != 'Amazon'):\n",
    "            print('|',key,'|',value['company'],'|',value['commits'],'|',value['additions'],'|',value['deletions'],'|')\n",
    "    except:\n",
    "        pass"
   ]
  },
  {
   "cell_type": "markdown",
   "id": "f08aa3ad",
   "metadata": {},
   "source": [
    "# Final Year under AWS before LF (2023-09-16 to 2024-09-16)"
   ]
  },
  {
   "cell_type": "code",
   "execution_count": 14,
   "id": "5d558916",
   "metadata": {},
   "outputs": [],
   "source": [
    "from pprint import pprint\n",
    "import collections\n",
    "import pandas as pd\n",
    "import pickle\n",
    "\n",
    "# Pickle files generated by this script:\n",
    "# https://github.com/geekygirldawn/project-api-metrics/blob/main/scripts/commits_people.py\n",
    "\n",
    "people_pickle_p1y = '../data-files/OpenSearch_people_2023-09-16T00:00:00.000+00:002024-09-16T00:00:00.000+00:00.pkl'\n",
    "\n",
    "with open(people_pickle_p1y, 'rb') as f:\n",
    "    person_dict_p1y = pickle.load(f)"
   ]
  },
  {
   "cell_type": "code",
   "execution_count": 15,
   "id": "c1623a6f",
   "metadata": {},
   "outputs": [
    {
     "name": "stdout",
     "output_type": "stream",
     "text": [
      "People: 167\n",
      "Commits: 1890\n",
      "Additions 375749\n",
      "Deletions 75677\n"
     ]
    }
   ],
   "source": [
    "people = len(person_dict_p1y)\n",
    "commits = 0\n",
    "additions = 0\n",
    "deletions = 0\n",
    "\n",
    "for key,value in person_dict_p1y.items():\n",
    "    # Normalize company names and use emails to derive Amazon affiliations\n",
    "    if value['company'] == None:\n",
    "        for email in value['email']:\n",
    "            if \"amazon.com\" in email:\n",
    "                person_dict_p1y[key]['company'] = 'Amazon'\n",
    "    elif any(x in value['company'].lower() for x in ['aws','amazon']):\n",
    "        person_dict_p1y[key]['company'] = 'Amazon'\n",
    "    elif \"aiven\" in value['company'].lower():\n",
    "        person_dict_p1y[key]['company'] = 'Aiven'\n",
    "        \n",
    "    # Get descriptive statistics\n",
    "    commits = commits + value['commits']\n",
    "    additions = additions + value['additions']\n",
    "    deletions = deletions + value['deletions']\n",
    "    \n",
    "print(\"People:\", people)\n",
    "print(\"Commits:\", commits)\n",
    "print(\"Additions\", additions)\n",
    "print(\"Deletions\", deletions)"
   ]
  },
  {
   "cell_type": "code",
   "execution_count": 16,
   "id": "583a4cab",
   "metadata": {},
   "outputs": [
    {
     "name": "stdout",
     "output_type": "stream",
     "text": [
      "Pranshu-S {'deletions': 89, 'name': 'Pranshu Shukla', 'additions': 2342, 'email': ['55992439+Pranshu-S@users.noreply.github.com'], 'commits': 6, 'company': None}\n",
      "Rishikesh1159 {'deletions': 329, 'name': 'Rishikesh', 'additions': 938, 'email': ['62345295+Rishikesh1159@users.noreply.github.com'], 'commits': 15, 'company': None}\n",
      "opensearch-trigger-bot[bot] {'deletions': 12, 'name': None, 'additions': 342, 'email': ['98922864+opensearch-trigger-bot[bot]@users.noreply.github.com', 'opensearch-trigger-bot[bot]@users.noreply.github.com'], 'commits': 10, 'company': None}\n",
      "dzane17 {'deletions': 530, 'name': 'David Zane', 'additions': 2502, 'email': ['38449481+dzane17@users.noreply.github.com'], 'commits': 11, 'company': None}\n",
      "rajiv-kv {'deletions': 186, 'name': None, 'additions': 3410, 'email': ['157019998+rajiv-kv@users.noreply.github.com'], 'commits': 11, 'company': None}\n",
      "vikasvb90 {'deletions': 282, 'name': 'Vikas Bansal', 'additions': 2435, 'email': ['43470111+vikasvb90@users.noreply.github.com'], 'commits': 10, 'company': None}\n",
      "rishabhmaurya {'deletions': 980, 'name': 'Rishabh Maurya', 'additions': 13740, 'email': ['rishabhmaurya05@gmail.com'], 'commits': 18, 'company': None}\n",
      "SwethaGuptha {'deletions': 523, 'name': None, 'additions': 1792, 'email': ['156877431+SwethaGuptha@users.noreply.github.com'], 'commits': 11, 'company': None}\n",
      "kkewwei {'deletions': 118, 'name': 'kkewwei', 'additions': 2412, 'email': ['kewei.11@bytedance.com', 'kkewwei@163.com'], 'commits': 16, 'company': None}\n",
      "shourya035 {'deletions': 343, 'name': 'Shourya Dutta Biswas', 'additions': 4134, 'email': ['114977491+shourya035@users.noreply.github.com'], 'commits': 10, 'company': None}\n",
      "gargharsh3134 {'deletions': 222, 'name': None, 'additions': 996, 'email': ['51459091+gargharsh3134@users.noreply.github.com'], 'commits': 8, 'company': None}\n",
      "dependabot[bot] {'deletions': 671, 'name': None, 'additions': 1777, 'email': ['49699333+dependabot[bot]@users.noreply.github.com', 'dependabot[bot]@users.noreply.github.com'], 'commits': 325, 'company': None}\n",
      "bugmakerrrrrr {'deletions': 404, 'name': 'panguixin', 'additions': 1029, 'email': ['panguixin@bytedance.com'], 'commits': 11, 'company': None}\n"
     ]
    }
   ],
   "source": [
    "for key,value in person_dict_p1y.items():\n",
    "    try:\n",
    "        if (value['commits'] > 5) and (value['company'] == None):\n",
    "            print(key,value)\n",
    "    except:\n",
    "        pass"
   ]
  },
  {
   "cell_type": "code",
   "execution_count": 17,
   "id": "2291863c",
   "metadata": {},
   "outputs": [],
   "source": [
    "# Manual Fixes\n",
    "person_dict_p1y['nknize']['company'] = 'Amazon' # https://www.linkedin.com/in/nknize/\n",
    "person_dict_p1y['Rishikesh1159']['company'] = 'Amazon' # https://www.linkedin.com/in/rishikesh-reddy-pasham-678271164/\n",
    "person_dict_p1y['rishabhmaurya']['company'] = 'Amazon' # https://www.linkedin.com/in/rishabh-maurya/\n",
    "person_dict_p1y['shourya035']['company'] = 'Amazon' # https://www.linkedin.com/in/shourya-dutta-biswas-436a0b132/\n",
    "person_dict_p1y['bowenlan-amzn']['company'] = 'Amazon' # https://www.linkedin.com/in/lanbowen23/\n",
    "person_dict_p1y['harshavamsi']['company'] = 'Amazon' # https://www.linkedin.com/in/harshavamsi/\n",
    "person_dict_p1y['vikasvb90']['company'] = 'Amazon' # https://www.linkedin.com/in/vikasbansal1/\n",
    "person_dict_p1y['mattweber']['company'] = 'Amazon' # https://www.linkedin.com/in/matthew-g-weber/\n",
    "\n",
    "\n",
    "# Remove bots\n",
    "del person_dict_p1y['dependabot[bot]']\n",
    "del person_dict_p1y['opensearch-trigger-bot[bot]']\n",
    "del person_dict_p1y['opensearch-ci-bot']"
   ]
  },
  {
   "cell_type": "code",
   "execution_count": 18,
   "id": "3042ce66",
   "metadata": {},
   "outputs": [
    {
     "name": "stdout",
     "output_type": "stream",
     "text": [
      "reta {'deletions': 8175, 'name': 'Andriy Redko', 'additions': 31718, 'email': ['andriy.redko@aiven.io', 'reta@users.noreply.github.com', 'drreta@gmail.com'], 'commits': 182, 'company': 'Aiven'}\n",
      "dzane17 {'deletions': 530, 'name': 'David Zane', 'additions': 2502, 'email': ['38449481+dzane17@users.noreply.github.com'], 'commits': 11, 'company': None}\n",
      "rajiv-kv {'deletions': 186, 'name': None, 'additions': 3410, 'email': ['157019998+rajiv-kv@users.noreply.github.com'], 'commits': 11, 'company': None}\n",
      "SwethaGuptha {'deletions': 523, 'name': None, 'additions': 1792, 'email': ['156877431+SwethaGuptha@users.noreply.github.com'], 'commits': 11, 'company': None}\n",
      "kkewwei {'deletions': 118, 'name': 'kkewwei', 'additions': 2412, 'email': ['kewei.11@bytedance.com', 'kkewwei@163.com'], 'commits': 16, 'company': None}\n",
      "bugmakerrrrrr {'deletions': 404, 'name': 'panguixin', 'additions': 1029, 'email': ['panguixin@bytedance.com'], 'commits': 11, 'company': None}\n",
      "\n",
      "Amazon / AWS - people with >= 10 commits: \n",
      "* People: 40 0.23952095808383234 % of people\n",
      "* Commits: 923\n",
      "* Additions: 237781 0.6328187167497452 % of total additions\n",
      "* Deletions: 48894 0.6460879791746501 % of total deletions\n",
      "\n",
      "Other - people with >= 10 commits: \n",
      "* People: 6 0.03592814371257485 % of people\n",
      "* Commits: 242\n",
      "* Additions: 42863 0.11407349054821171 % of total additions\n",
      "* Deletions: 9936 0.1312948451973519 % of total deletions\n",
      "\n",
      "Totals in dataset of people with >=10 commits:\n",
      "* 0.7468922072979569 % of total additions\n",
      "* 0.777382824372002 % of total deletions\n"
     ]
    }
   ],
   "source": [
    "org_people = 0\n",
    "org_commits = 0\n",
    "org_additions = 0\n",
    "org_deletions = 0\n",
    "\n",
    "other_people = 0\n",
    "other_commits = 0\n",
    "other_additions = 0\n",
    "other_deletions = 0\n",
    "\n",
    "for key,value in person_dict_p1y.items():\n",
    "    try:\n",
    "        if value['commits'] >= 10:\n",
    "            if value['company'] == 'Amazon':\n",
    "                org_people += 1\n",
    "                org_commits = org_commits + value['commits']\n",
    "                org_additions = org_additions + value['additions']\n",
    "                org_deletions = org_deletions + value['deletions']\n",
    "            else:\n",
    "                other_people += 1\n",
    "                other_commits = other_commits + value['commits']\n",
    "                other_additions = other_additions + value['additions']\n",
    "                other_deletions = other_deletions + value['deletions']\n",
    "                print(key,value)\n",
    "            i+=1\n",
    "    except:\n",
    "        pass\n",
    "    \n",
    "print(\"\\nAmazon / AWS - people with >= 10 commits:\", \"\\n* People:\", org_people, org_people/people, \"% of people\")\n",
    "print(\"* Commits:\", org_commits)\n",
    "print(\"* Additions:\", org_additions, org_additions/additions, \"% of total additions\")\n",
    "print(\"* Deletions:\", org_deletions, org_deletions/deletions, \"% of total deletions\")\n",
    "\n",
    "print(\"\\nOther - people with >= 10 commits:\", \"\\n* People:\", other_people, other_people/people, \"% of people\")\n",
    "print(\"* Commits:\", other_commits)\n",
    "print(\"* Additions:\", other_additions, other_additions/additions, \"% of total additions\")\n",
    "print(\"* Deletions:\", other_deletions, other_deletions/deletions, \"% of total deletions\")\n",
    "      \n",
    "print(\"\\nTotals in dataset of people with >=10 commits:\")\n",
    "print('*', (other_additions + org_additions)/additions, \"% of total additions\")\n",
    "print('*', (other_deletions + org_deletions)/deletions, \"% of total deletions\")"
   ]
  },
  {
   "cell_type": "code",
   "execution_count": 19,
   "id": "d23f9de4",
   "metadata": {},
   "outputs": [
    {
     "name": "stdout",
     "output_type": "stream",
     "text": [
      "|Person|Company|Commits|Additions|Deletions|\n",
      "|:---|:---|:---|:---|:---|\n",
      "| skumawat2025 | IIT Kharagpur | 8 | 2615 | 523 |\n",
      "| Pranshu-S | None | 6 | 2342 | 89 |\n",
      "| reta | Aiven | 182 | 31718 | 8175 |\n",
      "| dzane17 | None | 11 | 2502 | 530 |\n",
      "| rajiv-kv | None | 11 | 3410 | 186 |\n",
      "| SwethaGuptha | None | 11 | 1792 | 523 |\n",
      "| lukas-vlcek | Aiven | 9 | 497 | 69 |\n",
      "| kkewwei | None | 16 | 2412 | 118 |\n",
      "| HUSTERGS | @ByteDance | 6 | 260 | 48 |\n",
      "| akolarkunnu | NetApp | 6 | 48 | 63 |\n",
      "| gargharsh3134 | None | 8 | 996 | 222 |\n",
      "| bugmakerrrrrr | None | 11 | 1029 | 404 |\n"
     ]
    }
   ],
   "source": [
    "# Make it easy for the print statements to be copied into a Markdown table\n",
    "print('|Person|Company|Commits|Additions|Deletions|')\n",
    "print('|:---|:---|:---|:---|:---|')\n",
    "\n",
    "for key,value in person_dict_p1y.items():\n",
    "    try:\n",
    "        if (value['commits'] > 5) and (value['company'] != 'Amazon'):\n",
    "            print('|',key,'|',value['company'],'|',value['commits'],'|',value['additions'],'|',value['deletions'],'|')\n",
    "    except:\n",
    "        pass"
   ]
  },
  {
   "cell_type": "markdown",
   "id": "3e18d682",
   "metadata": {},
   "source": [
    "# List of people who contributed to Elastic before the relicense and have contributed to OpenSearch"
   ]
  },
  {
   "cell_type": "code",
   "execution_count": 25,
   "id": "5302b75b",
   "metadata": {},
   "outputs": [
    {
     "name": "stdout",
     "output_type": "stream",
     "text": [
      "Common Contributors: {'malpani', 'gaobinlong', 'rursprung', 'russcam', 'nknize', 'uschindler', 'Bukhtawar', 'markharwood', 'Gaurav614'}\n",
      "9\n"
     ]
    }
   ],
   "source": [
    "elastic_pickle_1yr = '../data-files/elasticsearch_people_2020-02-03T00:00:00.000+00:002021-02-03T00:00:00.000+00:00.pkl'\n",
    "\n",
    "with open(elastic_pickle_1yr, 'rb') as f:\n",
    "    elastic_dict_1yr = pickle.load(f)\n",
    "\n",
    "common_contrib = set(elastic_dict_1yr) & set(person_dict)\n",
    "print(\"Common Contributors:\", common_contrib)\n",
    "print(len(common_contrib))"
   ]
  },
  {
   "cell_type": "code",
   "execution_count": 26,
   "id": "a3c99863",
   "metadata": {},
   "outputs": [
    {
     "name": "stdout",
     "output_type": "stream",
     "text": [
      "malpani {'name': None, 'deletions': 240, 'company': 'Amazon', 'additions': 3734, 'email': ['malpani@amazon.com'], 'commits': 2}\n",
      "gaobinlong {'name': 'gaobinlong', 'deletions': 530, 'company': 'Amazon', 'additions': 11046, 'email': ['gbinlong@amazon.com', 'gbl_long@163.com'], 'commits': 59}\n",
      "rursprung {'name': 'Ralph Ursprung', 'deletions': 363, 'company': 'avaloq', 'additions': 202, 'email': ['39383228+rursprung@users.noreply.github.com'], 'commits': 6}\n",
      "russcam {'name': 'Russ Cam', 'deletions': 3, 'company': 'Search Pioneer', 'additions': 187, 'email': ['russ.cam@forloop.co.uk'], 'commits': 1}\n",
      "nknize {'name': 'Nick Knize', 'deletions': 92793, 'company': 'Amazon', 'additions': 78187, 'email': ['nknize@apache.org', 'nknize@gmail.com'], 'commits': 215}\n",
      "uschindler {'name': 'Uwe Schindler', 'deletions': 7, 'company': 'SD DataSolutions GmbH, Apache Software Foundation, PANGAEA', 'additions': 4, 'email': ['uwe@thetaphi.de'], 'commits': 1}\n",
      "Bukhtawar {'name': 'Bukhtawar Khan', 'deletions': 3426, 'company': 'Amazon', 'additions': 17537, 'email': ['bukhtawa@amazon.com', 'bukhtawar7152@gmail.com'], 'commits': 31}\n",
      "markharwood {'name': None, 'deletions': 0, 'company': None, 'additions': 263, 'email': ['markharwood@gmail.com'], 'commits': 1}\n",
      "Gaurav614 {'name': 'Gaurav Chandani', 'deletions': 355, 'company': 'Amazon', 'additions': 5875, 'email': ['chngau@amazon.com'], 'commits': 6}\n"
     ]
    }
   ],
   "source": [
    "for x in common_contrib:\n",
    "    print(x, person_dict[x])"
   ]
  },
  {
   "cell_type": "code",
   "execution_count": 27,
   "id": "ffb164b4",
   "metadata": {},
   "outputs": [
    {
     "name": "stdout",
     "output_type": "stream",
     "text": [
      "malpani {'company': '@awslabs ', 'name': None, 'commits': 1, 'additions': 42, 'deletions': 1, 'email': ['ankit.malpani@gmail.com']}\n",
      "gaobinlong {'company': 'AWS', 'name': 'gaobinlong', 'commits': 49, 'additions': 3450, 'deletions': 572, 'email': ['gbl_long@163.com', 'gbinlong@amazon.com']}\n",
      "rursprung {'company': 'avaloq', 'name': 'Ralph Ursprung', 'commits': 1, 'additions': 1, 'deletions': 1, 'email': ['39383228+rursprung@users.noreply.github.com']}\n",
      "russcam {'company': None, 'name': 'Russ Cam', 'commits': 19, 'additions': 2152, 'deletions': 390, 'email': ['russ.cam@elastic.co']}\n",
      "nknize {'company': 'Apache', 'name': 'Nick Knize', 'commits': 6, 'additions': 1852, 'deletions': 1334, 'email': ['nknize@gmail.com', 'nknize@apache.org']}\n",
      "uschindler {'company': 'SD DataSolutions GmbH, Apache Software Foundation, PANGAEA', 'name': 'Uwe Schindler', 'commits': 1, 'additions': 1, 'deletions': 1, 'email': ['uwe@thetaphi.de']}\n",
      "Bukhtawar {'company': '@AWS', 'name': 'Bukhtawar Khan', 'commits': 1, 'additions': 1298, 'deletions': 100, 'email': ['bukhtawar7152@gmail.com']}\n",
      "markharwood {'company': None, 'name': None, 'commits': 26, 'additions': 6320, 'deletions': 1075, 'email': ['markharwood@gmail.com']}\n",
      "Gaurav614 {'company': 'Amazon Web Services', 'name': 'Gaurav Chandani', 'commits': 1, 'additions': 50, 'deletions': 9, 'email': ['chngau@amazon.com']}\n"
     ]
    }
   ],
   "source": [
    "for x in common_contrib:\n",
    "    print(x, elastic_dict_1yr[x])"
   ]
  },
  {
   "cell_type": "code",
   "execution_count": null,
   "id": "82051ae6",
   "metadata": {},
   "outputs": [],
   "source": []
  }
 ],
 "metadata": {
  "kernelspec": {
   "display_name": "Python 3",
   "language": "python",
   "name": "python3"
  },
  "language_info": {
   "codemirror_mode": {
    "name": "ipython",
    "version": 3
   },
   "file_extension": ".py",
   "mimetype": "text/x-python",
   "name": "python",
   "nbconvert_exporter": "python",
   "pygments_lexer": "ipython3",
   "version": "3.11.10"
  }
 },
 "nbformat": 4,
 "nbformat_minor": 5
}
